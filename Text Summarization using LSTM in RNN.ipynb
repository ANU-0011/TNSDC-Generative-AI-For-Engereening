{
  "nbformat": 4,
  "nbformat_minor": 0,
  "metadata": {
    "colab": {
      "provenance": []
    },
    "kernelspec": {
      "name": "python3",
      "display_name": "Python 3"
    },
    "language_info": {
      "name": "python"
    }
  },
  "cells": [
    {
      "cell_type": "code",
      "execution_count": null,
      "metadata": {
        "id": "eqYQ2zQm846E"
      },
      "outputs": [],
      "source": [
        "#import all libraries\n",
        "import tensorflow as tf\n",
        "from tensorflow.keras.models import Model, load_model\n",
        "from tensorflow.keras.layers import *\n",
        "from keras.preprocessing.text import Tokenizer\n",
        "from tensorflow.keras.preprocessing.sequence import pad_sequences\n",
        "from tensorflow.keras.callbacks import EarlyStopping, ReduceLROnPlateau\n",
        "import warnings\n",
        "from nltk.corpus import stopwords\n",
        "import numpy as np\n",
        "import pandas as pd\n",
        "import re\n",
        "from sklearn.model_selection import train_test_split as tts\n",
        "from bs4 import BeautifulSoup\n",
        "from attention import AttentionLayer\n",
        "import matplotlib.pyplot as plt\n",
        "import pickle"
      ]
    },
    {
      "cell_type": "code",
      "source": [
        "#Avoid OOM errors by setting GPU Memory Consumption Growth\n",
        "gpus = tf.config.experimental.list_physical_devices('GPU')\n",
        "for gpu in gpus:\n",
        "    tf.config.experimental.set_memory_growth(gpu, True)"
      ],
      "metadata": {
        "id": "ZsTkx0qn93ag"
      },
      "execution_count": null,
      "outputs": []
    },
    {
      "cell_type": "code",
      "source": [
        "import nltk\n",
        "nltk.download('stopwords')\n",
        "stop_words = set(stopwords.words('english'))"
      ],
      "metadata": {
        "colab": {
          "base_uri": "https://localhost:8080/"
        },
        "id": "JxkWM4wY96uN",
        "outputId": "dd714a8e-df9e-4bc3-bcb6-63edaa7a62a1"
      },
      "execution_count": null,
      "outputs": [
        {
          "output_type": "stream",
          "name": "stderr",
          "text": [
            "[nltk_data] Downloading package stopwords to /root/nltk_data...\n",
            "[nltk_data]   Unzipping corpora/stopwords.zip.\n"
          ]
        }
      ]
    },
    {
      "cell_type": "code",
      "source": [
        "pd.set_option(\"display.max_colwidth\", 200)\n",
        "warnings.filterwarnings(\"ignore\")"
      ],
      "metadata": {
        "id": "2ABcDmBK-AJ_"
      },
      "execution_count": null,
      "outputs": []
    },
    {
      "cell_type": "code",
      "source": [
        "#load the data\n",
        "df = pd.read_csv(\"/content/Reviews.csv\", nrows=250000)"
      ],
      "metadata": {
        "id": "0ge2cxDm-F0n"
      },
      "execution_count": null,
      "outputs": []
    },
    {
      "cell_type": "code",
      "source": [
        "df.head()"
      ],
      "metadata": {
        "colab": {
          "base_uri": "https://localhost:8080/",
          "height": 1000
        },
        "id": "z5opdh8U-Jm9",
        "outputId": "e591d1b4-5829-4316-ad67-06a0a7ada37c"
      },
      "execution_count": null,
      "outputs": [
        {
          "output_type": "execute_result",
          "data": {
            "text/plain": [
              "   Id   ProductId          UserId                      ProfileName  \\\n",
              "0   1  B001E4KFG0  A3SGXH7AUHU8GW                       delmartian   \n",
              "1   2  B00813GRG4  A1D87F6ZCVE5NK                           dll pa   \n",
              "2   3  B000LQOCH0   ABXLMWJIXXAIN  Natalia Corres \"Natalia Corres\"   \n",
              "3   4  B000UA0QIQ  A395BORC6FGVXV                             Karl   \n",
              "4   5  B006K2ZZ7K  A1UQRSCLF8GW1T    Michael D. Bigham \"M. Wassir\"   \n",
              "\n",
              "   HelpfulnessNumerator  HelpfulnessDenominator  Score          Time  \\\n",
              "0                   1.0                     1.0    5.0  1.303862e+09   \n",
              "1                   0.0                     0.0    1.0  1.346976e+09   \n",
              "2                   1.0                     1.0    4.0  1.219018e+09   \n",
              "3                   3.0                     3.0    2.0  1.307923e+09   \n",
              "4                   0.0                     0.0    5.0  1.350778e+09   \n",
              "\n",
              "                 Summary  \\\n",
              "0  Good Quality Dog Food   \n",
              "1      Not as Advertised   \n",
              "2  \"Delight\" says it all   \n",
              "3         Cough Medicine   \n",
              "4            Great taffy   \n",
              "\n",
              "                                                                                                                                                                                                      Text  \n",
              "0  I have bought several of the Vitality canned dog food products and have found them all to be of good quality. The product looks more like a stew than a processed meat and it smells better. My Labr...  \n",
              "1           Product arrived labeled as Jumbo Salted Peanuts...the peanuts were actually small sized unsalted. Not sure if this was an error or if the vendor intended to represent the product as \"Jumbo\".  \n",
              "2  This is a confection that has been around a few centuries.  It is a light, pillowy citrus gelatin with nuts - in this case Filberts. And it is cut into tiny squares and then liberally coated with ...  \n",
              "3  If you are looking for the secret ingredient in Robitussin I believe I have found it.  I got this in addition to the Root Beer Extract I ordered (which was good) and made some cherry soda.  The fl...  \n",
              "4                                                             Great taffy at a great price.  There was a wide assortment of yummy taffy.  Delivery was very quick.  If your a taffy lover, this is a deal.  "
            ],
            "text/html": [
              "\n",
              "  <div id=\"df-1d3677e3-1af5-4ada-8fd1-afc9748c9718\" class=\"colab-df-container\">\n",
              "    <div>\n",
              "<style scoped>\n",
              "    .dataframe tbody tr th:only-of-type {\n",
              "        vertical-align: middle;\n",
              "    }\n",
              "\n",
              "    .dataframe tbody tr th {\n",
              "        vertical-align: top;\n",
              "    }\n",
              "\n",
              "    .dataframe thead th {\n",
              "        text-align: right;\n",
              "    }\n",
              "</style>\n",
              "<table border=\"1\" class=\"dataframe\">\n",
              "  <thead>\n",
              "    <tr style=\"text-align: right;\">\n",
              "      <th></th>\n",
              "      <th>Id</th>\n",
              "      <th>ProductId</th>\n",
              "      <th>UserId</th>\n",
              "      <th>ProfileName</th>\n",
              "      <th>HelpfulnessNumerator</th>\n",
              "      <th>HelpfulnessDenominator</th>\n",
              "      <th>Score</th>\n",
              "      <th>Time</th>\n",
              "      <th>Summary</th>\n",
              "      <th>Text</th>\n",
              "    </tr>\n",
              "  </thead>\n",
              "  <tbody>\n",
              "    <tr>\n",
              "      <th>0</th>\n",
              "      <td>1</td>\n",
              "      <td>B001E4KFG0</td>\n",
              "      <td>A3SGXH7AUHU8GW</td>\n",
              "      <td>delmartian</td>\n",
              "      <td>1.0</td>\n",
              "      <td>1.0</td>\n",
              "      <td>5.0</td>\n",
              "      <td>1.303862e+09</td>\n",
              "      <td>Good Quality Dog Food</td>\n",
              "      <td>I have bought several of the Vitality canned dog food products and have found them all to be of good quality. The product looks more like a stew than a processed meat and it smells better. My Labr...</td>\n",
              "    </tr>\n",
              "    <tr>\n",
              "      <th>1</th>\n",
              "      <td>2</td>\n",
              "      <td>B00813GRG4</td>\n",
              "      <td>A1D87F6ZCVE5NK</td>\n",
              "      <td>dll pa</td>\n",
              "      <td>0.0</td>\n",
              "      <td>0.0</td>\n",
              "      <td>1.0</td>\n",
              "      <td>1.346976e+09</td>\n",
              "      <td>Not as Advertised</td>\n",
              "      <td>Product arrived labeled as Jumbo Salted Peanuts...the peanuts were actually small sized unsalted. Not sure if this was an error or if the vendor intended to represent the product as \"Jumbo\".</td>\n",
              "    </tr>\n",
              "    <tr>\n",
              "      <th>2</th>\n",
              "      <td>3</td>\n",
              "      <td>B000LQOCH0</td>\n",
              "      <td>ABXLMWJIXXAIN</td>\n",
              "      <td>Natalia Corres \"Natalia Corres\"</td>\n",
              "      <td>1.0</td>\n",
              "      <td>1.0</td>\n",
              "      <td>4.0</td>\n",
              "      <td>1.219018e+09</td>\n",
              "      <td>\"Delight\" says it all</td>\n",
              "      <td>This is a confection that has been around a few centuries.  It is a light, pillowy citrus gelatin with nuts - in this case Filberts. And it is cut into tiny squares and then liberally coated with ...</td>\n",
              "    </tr>\n",
              "    <tr>\n",
              "      <th>3</th>\n",
              "      <td>4</td>\n",
              "      <td>B000UA0QIQ</td>\n",
              "      <td>A395BORC6FGVXV</td>\n",
              "      <td>Karl</td>\n",
              "      <td>3.0</td>\n",
              "      <td>3.0</td>\n",
              "      <td>2.0</td>\n",
              "      <td>1.307923e+09</td>\n",
              "      <td>Cough Medicine</td>\n",
              "      <td>If you are looking for the secret ingredient in Robitussin I believe I have found it.  I got this in addition to the Root Beer Extract I ordered (which was good) and made some cherry soda.  The fl...</td>\n",
              "    </tr>\n",
              "    <tr>\n",
              "      <th>4</th>\n",
              "      <td>5</td>\n",
              "      <td>B006K2ZZ7K</td>\n",
              "      <td>A1UQRSCLF8GW1T</td>\n",
              "      <td>Michael D. Bigham \"M. Wassir\"</td>\n",
              "      <td>0.0</td>\n",
              "      <td>0.0</td>\n",
              "      <td>5.0</td>\n",
              "      <td>1.350778e+09</td>\n",
              "      <td>Great taffy</td>\n",
              "      <td>Great taffy at a great price.  There was a wide assortment of yummy taffy.  Delivery was very quick.  If your a taffy lover, this is a deal.</td>\n",
              "    </tr>\n",
              "  </tbody>\n",
              "</table>\n",
              "</div>\n",
              "    <div class=\"colab-df-buttons\">\n",
              "\n",
              "  <div class=\"colab-df-container\">\n",
              "    <button class=\"colab-df-convert\" onclick=\"convertToInteractive('df-1d3677e3-1af5-4ada-8fd1-afc9748c9718')\"\n",
              "            title=\"Convert this dataframe to an interactive table.\"\n",
              "            style=\"display:none;\">\n",
              "\n",
              "  <svg xmlns=\"http://www.w3.org/2000/svg\" height=\"24px\" viewBox=\"0 -960 960 960\">\n",
              "    <path d=\"M120-120v-720h720v720H120Zm60-500h600v-160H180v160Zm220 220h160v-160H400v160Zm0 220h160v-160H400v160ZM180-400h160v-160H180v160Zm440 0h160v-160H620v160ZM180-180h160v-160H180v160Zm440 0h160v-160H620v160Z\"/>\n",
              "  </svg>\n",
              "    </button>\n",
              "\n",
              "  <style>\n",
              "    .colab-df-container {\n",
              "      display:flex;\n",
              "      gap: 12px;\n",
              "    }\n",
              "\n",
              "    .colab-df-convert {\n",
              "      background-color: #E8F0FE;\n",
              "      border: none;\n",
              "      border-radius: 50%;\n",
              "      cursor: pointer;\n",
              "      display: none;\n",
              "      fill: #1967D2;\n",
              "      height: 32px;\n",
              "      padding: 0 0 0 0;\n",
              "      width: 32px;\n",
              "    }\n",
              "\n",
              "    .colab-df-convert:hover {\n",
              "      background-color: #E2EBFA;\n",
              "      box-shadow: 0px 1px 2px rgba(60, 64, 67, 0.3), 0px 1px 3px 1px rgba(60, 64, 67, 0.15);\n",
              "      fill: #174EA6;\n",
              "    }\n",
              "\n",
              "    .colab-df-buttons div {\n",
              "      margin-bottom: 4px;\n",
              "    }\n",
              "\n",
              "    [theme=dark] .colab-df-convert {\n",
              "      background-color: #3B4455;\n",
              "      fill: #D2E3FC;\n",
              "    }\n",
              "\n",
              "    [theme=dark] .colab-df-convert:hover {\n",
              "      background-color: #434B5C;\n",
              "      box-shadow: 0px 1px 3px 1px rgba(0, 0, 0, 0.15);\n",
              "      filter: drop-shadow(0px 1px 2px rgba(0, 0, 0, 0.3));\n",
              "      fill: #FFFFFF;\n",
              "    }\n",
              "  </style>\n",
              "\n",
              "    <script>\n",
              "      const buttonEl =\n",
              "        document.querySelector('#df-1d3677e3-1af5-4ada-8fd1-afc9748c9718 button.colab-df-convert');\n",
              "      buttonEl.style.display =\n",
              "        google.colab.kernel.accessAllowed ? 'block' : 'none';\n",
              "\n",
              "      async function convertToInteractive(key) {\n",
              "        const element = document.querySelector('#df-1d3677e3-1af5-4ada-8fd1-afc9748c9718');\n",
              "        const dataTable =\n",
              "          await google.colab.kernel.invokeFunction('convertToInteractive',\n",
              "                                                    [key], {});\n",
              "        if (!dataTable) return;\n",
              "\n",
              "        const docLinkHtml = 'Like what you see? Visit the ' +\n",
              "          '<a target=\"_blank\" href=https://colab.research.google.com/notebooks/data_table.ipynb>data table notebook</a>'\n",
              "          + ' to learn more about interactive tables.';\n",
              "        element.innerHTML = '';\n",
              "        dataTable['output_type'] = 'display_data';\n",
              "        await google.colab.output.renderOutput(dataTable, element);\n",
              "        const docLink = document.createElement('div');\n",
              "        docLink.innerHTML = docLinkHtml;\n",
              "        element.appendChild(docLink);\n",
              "      }\n",
              "    </script>\n",
              "  </div>\n",
              "\n",
              "\n",
              "<div id=\"df-ad8a3f7b-ceab-4c69-9484-24fed0e182f8\">\n",
              "  <button class=\"colab-df-quickchart\" onclick=\"quickchart('df-ad8a3f7b-ceab-4c69-9484-24fed0e182f8')\"\n",
              "            title=\"Suggest charts\"\n",
              "            style=\"display:none;\">\n",
              "\n",
              "<svg xmlns=\"http://www.w3.org/2000/svg\" height=\"24px\"viewBox=\"0 0 24 24\"\n",
              "     width=\"24px\">\n",
              "    <g>\n",
              "        <path d=\"M19 3H5c-1.1 0-2 .9-2 2v14c0 1.1.9 2 2 2h14c1.1 0 2-.9 2-2V5c0-1.1-.9-2-2-2zM9 17H7v-7h2v7zm4 0h-2V7h2v10zm4 0h-2v-4h2v4z\"/>\n",
              "    </g>\n",
              "</svg>\n",
              "  </button>\n",
              "\n",
              "<style>\n",
              "  .colab-df-quickchart {\n",
              "      --bg-color: #E8F0FE;\n",
              "      --fill-color: #1967D2;\n",
              "      --hover-bg-color: #E2EBFA;\n",
              "      --hover-fill-color: #174EA6;\n",
              "      --disabled-fill-color: #AAA;\n",
              "      --disabled-bg-color: #DDD;\n",
              "  }\n",
              "\n",
              "  [theme=dark] .colab-df-quickchart {\n",
              "      --bg-color: #3B4455;\n",
              "      --fill-color: #D2E3FC;\n",
              "      --hover-bg-color: #434B5C;\n",
              "      --hover-fill-color: #FFFFFF;\n",
              "      --disabled-bg-color: #3B4455;\n",
              "      --disabled-fill-color: #666;\n",
              "  }\n",
              "\n",
              "  .colab-df-quickchart {\n",
              "    background-color: var(--bg-color);\n",
              "    border: none;\n",
              "    border-radius: 50%;\n",
              "    cursor: pointer;\n",
              "    display: none;\n",
              "    fill: var(--fill-color);\n",
              "    height: 32px;\n",
              "    padding: 0;\n",
              "    width: 32px;\n",
              "  }\n",
              "\n",
              "  .colab-df-quickchart:hover {\n",
              "    background-color: var(--hover-bg-color);\n",
              "    box-shadow: 0 1px 2px rgba(60, 64, 67, 0.3), 0 1px 3px 1px rgba(60, 64, 67, 0.15);\n",
              "    fill: var(--button-hover-fill-color);\n",
              "  }\n",
              "\n",
              "  .colab-df-quickchart-complete:disabled,\n",
              "  .colab-df-quickchart-complete:disabled:hover {\n",
              "    background-color: var(--disabled-bg-color);\n",
              "    fill: var(--disabled-fill-color);\n",
              "    box-shadow: none;\n",
              "  }\n",
              "\n",
              "  .colab-df-spinner {\n",
              "    border: 2px solid var(--fill-color);\n",
              "    border-color: transparent;\n",
              "    border-bottom-color: var(--fill-color);\n",
              "    animation:\n",
              "      spin 1s steps(1) infinite;\n",
              "  }\n",
              "\n",
              "  @keyframes spin {\n",
              "    0% {\n",
              "      border-color: transparent;\n",
              "      border-bottom-color: var(--fill-color);\n",
              "      border-left-color: var(--fill-color);\n",
              "    }\n",
              "    20% {\n",
              "      border-color: transparent;\n",
              "      border-left-color: var(--fill-color);\n",
              "      border-top-color: var(--fill-color);\n",
              "    }\n",
              "    30% {\n",
              "      border-color: transparent;\n",
              "      border-left-color: var(--fill-color);\n",
              "      border-top-color: var(--fill-color);\n",
              "      border-right-color: var(--fill-color);\n",
              "    }\n",
              "    40% {\n",
              "      border-color: transparent;\n",
              "      border-right-color: var(--fill-color);\n",
              "      border-top-color: var(--fill-color);\n",
              "    }\n",
              "    60% {\n",
              "      border-color: transparent;\n",
              "      border-right-color: var(--fill-color);\n",
              "    }\n",
              "    80% {\n",
              "      border-color: transparent;\n",
              "      border-right-color: var(--fill-color);\n",
              "      border-bottom-color: var(--fill-color);\n",
              "    }\n",
              "    90% {\n",
              "      border-color: transparent;\n",
              "      border-bottom-color: var(--fill-color);\n",
              "    }\n",
              "  }\n",
              "</style>\n",
              "\n",
              "  <script>\n",
              "    async function quickchart(key) {\n",
              "      const quickchartButtonEl =\n",
              "        document.querySelector('#' + key + ' button');\n",
              "      quickchartButtonEl.disabled = true;  // To prevent multiple clicks.\n",
              "      quickchartButtonEl.classList.add('colab-df-spinner');\n",
              "      try {\n",
              "        const charts = await google.colab.kernel.invokeFunction(\n",
              "            'suggestCharts', [key], {});\n",
              "      } catch (error) {\n",
              "        console.error('Error during call to suggestCharts:', error);\n",
              "      }\n",
              "      quickchartButtonEl.classList.remove('colab-df-spinner');\n",
              "      quickchartButtonEl.classList.add('colab-df-quickchart-complete');\n",
              "    }\n",
              "    (() => {\n",
              "      let quickchartButtonEl =\n",
              "        document.querySelector('#df-ad8a3f7b-ceab-4c69-9484-24fed0e182f8 button');\n",
              "      quickchartButtonEl.style.display =\n",
              "        google.colab.kernel.accessAllowed ? 'block' : 'none';\n",
              "    })();\n",
              "  </script>\n",
              "</div>\n",
              "\n",
              "    </div>\n",
              "  </div>\n"
            ],
            "application/vnd.google.colaboratory.intrinsic+json": {
              "type": "dataframe",
              "variable_name": "df",
              "summary": "{\n  \"name\": \"df\",\n  \"rows\": 16243,\n  \"fields\": [\n    {\n      \"column\": \"Id\",\n      \"properties\": {\n        \"dtype\": \"number\",\n        \"std\": 4689,\n        \"min\": 1,\n        \"max\": 16243,\n        \"num_unique_values\": 16243,\n        \"samples\": [\n          8731,\n          12417,\n          1108\n        ],\n        \"semantic_type\": \"\",\n        \"description\": \"\"\n      }\n    },\n    {\n      \"column\": \"ProductId\",\n      \"properties\": {\n        \"dtype\": \"category\",\n        \"num_unique_values\": 2241,\n        \"samples\": [\n          \"B0017T1LI8\",\n          \"B0028PHHLU\",\n          \"B0022MH2QE\"\n        ],\n        \"semantic_type\": \"\",\n        \"description\": \"\"\n      }\n    },\n    {\n      \"column\": \"UserId\",\n      \"properties\": {\n        \"dtype\": \"string\",\n        \"num_unique_values\": 14514,\n        \"samples\": [\n          \"A3EBLZM17S0GV6\",\n          \"A3KTOA1CBPBBC0\",\n          \"ASETNNKSBFJRC\"\n        ],\n        \"semantic_type\": \"\",\n        \"description\": \"\"\n      }\n    },\n    {\n      \"column\": \"ProfileName\",\n      \"properties\": {\n        \"dtype\": \"string\",\n        \"num_unique_values\": 13827,\n        \"samples\": [\n          \"Holly Wilder\",\n          \"J. OTTO\",\n          \"Amazonian\"\n        ],\n        \"semantic_type\": \"\",\n        \"description\": \"\"\n      }\n    },\n    {\n      \"column\": \"HelpfulnessNumerator\",\n      \"properties\": {\n        \"dtype\": \"number\",\n        \"std\": 5.223676169576875,\n        \"min\": 0.0,\n        \"max\": 202.0,\n        \"num_unique_values\": 69,\n        \"samples\": [\n          21.0,\n          1.0,\n          48.0\n        ],\n        \"semantic_type\": \"\",\n        \"description\": \"\"\n      }\n    },\n    {\n      \"column\": \"HelpfulnessDenominator\",\n      \"properties\": {\n        \"dtype\": \"number\",\n        \"std\": 5.929612157923727,\n        \"min\": 0.0,\n        \"max\": 219.0,\n        \"num_unique_values\": 76,\n        \"samples\": [\n          2.0,\n          20.0,\n          15.0\n        ],\n        \"semantic_type\": \"\",\n        \"description\": \"\"\n      }\n    },\n    {\n      \"column\": \"Score\",\n      \"properties\": {\n        \"dtype\": \"number\",\n        \"std\": 1.3166816761716564,\n        \"min\": 1.0,\n        \"max\": 5.0,\n        \"num_unique_values\": 5,\n        \"samples\": [\n          1.0,\n          3.0,\n          4.0\n        ],\n        \"semantic_type\": \"\",\n        \"description\": \"\"\n      }\n    },\n    {\n      \"column\": \"Time\",\n      \"properties\": {\n        \"dtype\": \"number\",\n        \"std\": 46739199.96484835,\n        \"min\": 961718400.0,\n        \"max\": 1351209600.0,\n        \"num_unique_values\": 2138,\n        \"samples\": [\n          1287705600.0,\n          1306022400.0,\n          1296691200.0\n        ],\n        \"semantic_type\": \"\",\n        \"description\": \"\"\n      }\n    },\n    {\n      \"column\": \"Summary\",\n      \"properties\": {\n        \"dtype\": \"string\",\n        \"num_unique_values\": 13793,\n        \"samples\": [\n          \"Refreshing flavor\",\n          \"Its good!\",\n          \"NOT edible!\"\n        ],\n        \"semantic_type\": \"\",\n        \"description\": \"\"\n      }\n    },\n    {\n      \"column\": \"Text\",\n      \"properties\": {\n        \"dtype\": \"string\",\n        \"num_unique_values\": 15638,\n        \"samples\": [\n          \"According to a lot of reviews on top baby food brands overall, Earth's Best was always voted to be in the Top 5 of all the lists of reviews by Mom Links, Consumer Reports, Livestrong, Baby Health Sites.  Here is a excerpt from one of the sites (I think it was from eHow.com):<br /><br />The Center for Science in the Public Interest evaluated popular brands of baby foods, including Gerbers, Heinz, Earth's Best and Beech-Nut. According to the Center's report, Earth's Best did not use starchy fillers or \\\"replace real food with water and thickening agents in many of their products for children over six months of age. Such adulterated products are nutritionally inferior to products made with more fruits and vegetables.\\\" Earth's Best uses certified organic products. The brand offers single-ingredient, smooth foods for infants over four months; fruit, vegetable, grain and meat blends for babies over six months; and a variety of chunky soups, dinners and vegetable medleys for children over nine months old. Earth's Best products are sold at supermarkets, natural food stores and big box stores nationwide.<br /><br />Plus, my baby girl loves it.  Yes, it might be a little runnier than the other baby foods, but I just add a little rice with it and that fixes it.\",\n          \"I tried this unknown manufacturer \\\"Stephen's\\\" and was pleasantly surprised. It had a good amaretto flavor along with the chocolate. The aroma is good. I use it in my coffee for a homemade mocha taste.\",\n          \"I thought I was getting a healthy alternative to cheese its and cheese nips. But after comparing the labels, I was surprised to see that the Back to Nature ones have basically the same ingredients (nothing organic) and MUCH MORE sodium than the major brands.<br /><br />Seems they just put regular crackers in a 'healthy' looking box and got away with charging a premium.\"\n        ],\n        \"semantic_type\": \"\",\n        \"description\": \"\"\n      }\n    }\n  ]\n}"
            }
          },
          "metadata": {},
          "execution_count": 6
        }
      ]
    },
    {
      "cell_type": "code",
      "source": [
        "#Drop Duplicates and NAs\n",
        "df.drop_duplicates(subset=['Text'],inplace=True)\n",
        "df.dropna(axis=0,inplace=True)"
      ],
      "metadata": {
        "id": "rRh3Lir1-Omi"
      },
      "execution_count": null,
      "outputs": []
    },
    {
      "cell_type": "code",
      "source": [
        "df.info()"
      ],
      "metadata": {
        "colab": {
          "base_uri": "https://localhost:8080/"
        },
        "id": "OLTkfquA-SA-",
        "outputId": "b1d1058a-d606-4f09-f636-7978801f3f67"
      },
      "execution_count": null,
      "outputs": [
        {
          "output_type": "stream",
          "name": "stdout",
          "text": [
            "<class 'pandas.core.frame.DataFrame'>\n",
            "Int64Index: 15638 entries, 0 to 16241\n",
            "Data columns (total 10 columns):\n",
            " #   Column                  Non-Null Count  Dtype  \n",
            "---  ------                  --------------  -----  \n",
            " 0   Id                      15638 non-null  int64  \n",
            " 1   ProductId               15638 non-null  object \n",
            " 2   UserId                  15638 non-null  object \n",
            " 3   ProfileName             15638 non-null  object \n",
            " 4   HelpfulnessNumerator    15638 non-null  float64\n",
            " 5   HelpfulnessDenominator  15638 non-null  float64\n",
            " 6   Score                   15638 non-null  float64\n",
            " 7   Time                    15638 non-null  float64\n",
            " 8   Summary                 15638 non-null  object \n",
            " 9   Text                    15638 non-null  object \n",
            "dtypes: float64(4), int64(1), object(5)\n",
            "memory usage: 1.3+ MB\n"
          ]
        }
      ]
    },
    {
      "cell_type": "code",
      "source": [
        "#Preprocessing\n",
        "#Text Cleaning\n",
        "#define a dictionary for contracition mapping\n",
        "contraction_mapping = {\"ain't\": \"is not\", \"aren't\": \"are not\",\"can't\": \"cannot\", \"'cause\": \"because\", \"could've\": \"could have\", \"couldn't\": \"could not\",\n",
        "                           \"didn't\": \"did not\",  \"doesn't\": \"does not\", \"don't\": \"do not\", \"hadn't\": \"had not\", \"hasn't\": \"has not\", \"haven't\": \"have not\",\n",
        "                           \"he'd\": \"he would\",\"he'll\": \"he will\", \"he's\": \"he is\", \"how'd\": \"how did\", \"how'd'y\": \"how do you\", \"how'll\": \"how will\", \"how's\": \"how is\",\n",
        "                           \"I'd\": \"I would\", \"I'd've\": \"I would have\", \"I'll\": \"I will\", \"I'll've\": \"I will have\",\"I'm\": \"I am\", \"I've\": \"I have\", \"i'd\": \"i would\",\n",
        "                           \"i'd've\": \"i would have\", \"i'll\": \"i will\",  \"i'll've\": \"i will have\",\"i'm\": \"i am\", \"i've\": \"i have\", \"isn't\": \"is not\", \"it'd\": \"it would\",\n",
        "                           \"it'd've\": \"it would have\", \"it'll\": \"it will\", \"it'll've\": \"it will have\",\"it's\": \"it is\", \"let's\": \"let us\", \"ma'am\": \"madam\",\n",
        "                           \"mayn't\": \"may not\", \"might've\": \"might have\",\"mightn't\": \"might not\",\"mightn't've\": \"might not have\", \"must've\": \"must have\",\n",
        "                           \"mustn't\": \"must not\", \"mustn't've\": \"must not have\", \"needn't\": \"need not\", \"needn't've\": \"need not have\",\"o'clock\": \"of the clock\",\n",
        "                           \"oughtn't\": \"ought not\", \"oughtn't've\": \"ought not have\", \"shan't\": \"shall not\", \"sha'n't\": \"shall not\", \"shan't've\": \"shall not have\",\n",
        "                           \"she'd\": \"she would\", \"she'd've\": \"she would have\", \"she'll\": \"she will\", \"she'll've\": \"she will have\", \"she's\": \"she is\",\n",
        "                           \"should've\": \"should have\", \"shouldn't\": \"should not\", \"shouldn't've\": \"should not have\", \"so've\": \"so have\",\"so's\": \"so as\",\n",
        "                           \"this's\": \"this is\",\"that'd\": \"that would\", \"that'd've\": \"that would have\", \"that's\": \"that is\", \"there'd\": \"there would\",\n",
        "                           \"there'd've\": \"there would have\", \"there's\": \"there is\", \"here's\": \"here is\",\"they'd\": \"they would\", \"they'd've\": \"they would have\",\n",
        "                           \"they'll\": \"they will\", \"they'll've\": \"they will have\", \"they're\": \"they are\", \"they've\": \"they have\", \"to've\": \"to have\",\n",
        "                           \"wasn't\": \"was not\", \"we'd\": \"we would\", \"we'd've\": \"we would have\", \"we'll\": \"we will\", \"we'll've\": \"we will have\", \"we're\": \"we are\",\n",
        "                           \"we've\": \"we have\", \"weren't\": \"were not\", \"what'll\": \"what will\", \"what'll've\": \"what will have\", \"what're\": \"what are\",\n",
        "                           \"what's\": \"what is\", \"what've\": \"what have\", \"when's\": \"when is\", \"when've\": \"when have\", \"where'd\": \"where did\", \"where's\": \"where is\",\n",
        "                           \"where've\": \"where have\", \"who'll\": \"who will\", \"who'll've\": \"who will have\", \"who's\": \"who is\", \"who've\": \"who have\",\n",
        "                           \"why's\": \"why is\", \"why've\": \"why have\", \"will've\": \"will have\", \"won't\": \"will not\", \"won't've\": \"will not have\",\n",
        "                           \"would've\": \"would have\", \"wouldn't\": \"would not\", \"wouldn't've\": \"would not have\", \"y'all\": \"you all\",\n",
        "                           \"y'all'd\": \"you all would\",\"y'all'd've\": \"you all would have\",\"y'all're\": \"you all are\",\"y'all've\": \"you all have\",\n",
        "                           \"you'd\": \"you would\", \"you'd've\": \"you would have\", \"you'll\": \"you will\", \"you'll've\": \"you will have\",\n",
        "                           \"you're\": \"you are\", \"you've\": \"you have\"}"
      ],
      "metadata": {
        "id": "FeNlrsC3-X5F"
      },
      "execution_count": null,
      "outputs": []
    },
    {
      "cell_type": "code",
      "source": [
        "def text_cleaner(text, num):\n",
        "    \"\"\"\n",
        "    This function cleans a text by removing everything :)\n",
        "    \"\"\"\n",
        "    #define new string\n",
        "    newString = text.lower()\n",
        "    newString = BeautifulSoup(newString, \"lxml\").text\n",
        "    newString = re.sub(r'\\([^)]*\\)', '', newString)\n",
        "    newString = re.sub('\"','', newString)\n",
        "    newString = ' '.join([contraction_mapping[t] if t in contraction_mapping else t for t in newString.split(\" \")])\n",
        "    newString = re.sub(r\"'s\\b\",\"\",newString)\n",
        "    newString = re.sub(\"[^a-zA-Z]\", \" \", newString)\n",
        "    newString = re.sub('[m]{2,}', 'mm', newString)\n",
        "\n",
        "    #Clean texts with number 0\n",
        "    if num == 0:\n",
        "        tokens = [w for w in newString.split() if not w in stop_words]\n",
        "\n",
        "    #Clean Summaries with number 1\n",
        "    else:\n",
        "        tokens=newString.split()\n",
        "\n",
        "    long_words = []\n",
        "    for i in tokens:\n",
        "        if len(i) > 1:\n",
        "            long_words.append(i)\n",
        "    return (\" \".join(long_words)).strip()"
      ],
      "metadata": {
        "id": "a0Wd3zU4-c4z"
      },
      "execution_count": null,
      "outputs": []
    },
    {
      "cell_type": "code",
      "source": [
        "#clean the text\n",
        "cleaned_texts = []\n",
        "\n",
        "for t in df[\"Text\"]:\n",
        "    cleaned_texts.append(text_cleaner(t, 0))"
      ],
      "metadata": {
        "id": "hpxSGsbj-gUx"
      },
      "execution_count": null,
      "outputs": []
    },
    {
      "cell_type": "code",
      "source": [
        "#clean summaries\n",
        "cleaned_summaries = []\n",
        "\n",
        "for s in df[\"Summary\"]:\n",
        "    cleaned_summaries.append(text_cleaner(s, 1))"
      ],
      "metadata": {
        "id": "LO3M9RXu-kEL"
      },
      "execution_count": null,
      "outputs": []
    },
    {
      "cell_type": "code",
      "source": [
        "#create new dataframe for the cleaned texts and summaries\n",
        "dataframe = pd.DataFrame(columns=[\"text\", \"summary\"])\n",
        "#put cleaned version of texts and summaries into the dataframe\n",
        "dataframe[\"text\"] = cleaned_texts\n",
        "dataframe[\"summary\"] = cleaned_summaries"
      ],
      "metadata": {
        "id": "FQHgJuAL-ngA"
      },
      "execution_count": null,
      "outputs": []
    },
    {
      "cell_type": "code",
      "source": [
        "dataframe"
      ],
      "metadata": {
        "colab": {
          "base_uri": "https://localhost:8080/",
          "height": 493
        },
        "id": "d-VtHxMz-qWM",
        "outputId": "2d95a3fc-17c3-4432-cc19-fc453d54aec5"
      },
      "execution_count": null,
      "outputs": [
        {
          "output_type": "execute_result",
          "data": {
            "text/plain": [
              "                                                                                                                                                                                                          text  \\\n",
              "0                                         bought several vitality canned dog food products found good quality product looks like stew processed meat smells better labrador finicky appreciates product better   \n",
              "1                                                                        product arrived labeled jumbo salted peanuts peanuts actually small sized unsalted sure error vendor intended represent product jumbo   \n",
              "2      confection around centuries light pillowy citrus gelatin nuts case filberts cut tiny squares liberally coated powdered sugar tiny mouthful heaven chewy flavorful highly recommend yummy treat famil...   \n",
              "3                                                                                  looking secret ingredient robitussin believe found got addition root beer extract ordered made cherry soda flavor medicinal   \n",
              "4                                                                                                                          great taffy great price wide assortment yummy taffy delivery quick taffy lover deal   \n",
              "...                                                                                                                                                                                                        ...   \n",
              "15633  must say great offer use keurig brewer everyday favorite coffee shop everyday amazon good deals important trust amazon selling described bought coffee many places best price keep good work amazon ...   \n",
              "15634                                                                                                                     product original packages individual kcups loose box also shown ship prime took week   \n",
              "15635                                                                                                    least strong bitter coffee find cups like strong coffee one enjoy came variety pack came coffee maker   \n",
              "15636                                                           love green mountain coffee tastes great keurig best price yet would definitely continue buy usually go box per month found economical purchase   \n",
              "15637                                                                                                                   good price excellent coffee packed perfect less cents per cup always order kups amazon   \n",
              "\n",
              "                     summary  \n",
              "0      good quality dog food  \n",
              "1          not as advertised  \n",
              "2        delight says it all  \n",
              "3             cough medicine  \n",
              "4                great taffy  \n",
              "...                      ...  \n",
              "15633            great offer  \n",
              "15634            diappointed  \n",
              "15635   little bitter but ok  \n",
              "15636         price is right  \n",
              "15637                   lips  \n",
              "\n",
              "[15638 rows x 2 columns]"
            ],
            "text/html": [
              "\n",
              "  <div id=\"df-44577f34-6ef8-4fef-8a3c-d3e773d986fa\" class=\"colab-df-container\">\n",
              "    <div>\n",
              "<style scoped>\n",
              "    .dataframe tbody tr th:only-of-type {\n",
              "        vertical-align: middle;\n",
              "    }\n",
              "\n",
              "    .dataframe tbody tr th {\n",
              "        vertical-align: top;\n",
              "    }\n",
              "\n",
              "    .dataframe thead th {\n",
              "        text-align: right;\n",
              "    }\n",
              "</style>\n",
              "<table border=\"1\" class=\"dataframe\">\n",
              "  <thead>\n",
              "    <tr style=\"text-align: right;\">\n",
              "      <th></th>\n",
              "      <th>text</th>\n",
              "      <th>summary</th>\n",
              "    </tr>\n",
              "  </thead>\n",
              "  <tbody>\n",
              "    <tr>\n",
              "      <th>0</th>\n",
              "      <td>bought several vitality canned dog food products found good quality product looks like stew processed meat smells better labrador finicky appreciates product better</td>\n",
              "      <td>good quality dog food</td>\n",
              "    </tr>\n",
              "    <tr>\n",
              "      <th>1</th>\n",
              "      <td>product arrived labeled jumbo salted peanuts peanuts actually small sized unsalted sure error vendor intended represent product jumbo</td>\n",
              "      <td>not as advertised</td>\n",
              "    </tr>\n",
              "    <tr>\n",
              "      <th>2</th>\n",
              "      <td>confection around centuries light pillowy citrus gelatin nuts case filberts cut tiny squares liberally coated powdered sugar tiny mouthful heaven chewy flavorful highly recommend yummy treat famil...</td>\n",
              "      <td>delight says it all</td>\n",
              "    </tr>\n",
              "    <tr>\n",
              "      <th>3</th>\n",
              "      <td>looking secret ingredient robitussin believe found got addition root beer extract ordered made cherry soda flavor medicinal</td>\n",
              "      <td>cough medicine</td>\n",
              "    </tr>\n",
              "    <tr>\n",
              "      <th>4</th>\n",
              "      <td>great taffy great price wide assortment yummy taffy delivery quick taffy lover deal</td>\n",
              "      <td>great taffy</td>\n",
              "    </tr>\n",
              "    <tr>\n",
              "      <th>...</th>\n",
              "      <td>...</td>\n",
              "      <td>...</td>\n",
              "    </tr>\n",
              "    <tr>\n",
              "      <th>15633</th>\n",
              "      <td>must say great offer use keurig brewer everyday favorite coffee shop everyday amazon good deals important trust amazon selling described bought coffee many places best price keep good work amazon ...</td>\n",
              "      <td>great offer</td>\n",
              "    </tr>\n",
              "    <tr>\n",
              "      <th>15634</th>\n",
              "      <td>product original packages individual kcups loose box also shown ship prime took week</td>\n",
              "      <td>diappointed</td>\n",
              "    </tr>\n",
              "    <tr>\n",
              "      <th>15635</th>\n",
              "      <td>least strong bitter coffee find cups like strong coffee one enjoy came variety pack came coffee maker</td>\n",
              "      <td>little bitter but ok</td>\n",
              "    </tr>\n",
              "    <tr>\n",
              "      <th>15636</th>\n",
              "      <td>love green mountain coffee tastes great keurig best price yet would definitely continue buy usually go box per month found economical purchase</td>\n",
              "      <td>price is right</td>\n",
              "    </tr>\n",
              "    <tr>\n",
              "      <th>15637</th>\n",
              "      <td>good price excellent coffee packed perfect less cents per cup always order kups amazon</td>\n",
              "      <td>lips</td>\n",
              "    </tr>\n",
              "  </tbody>\n",
              "</table>\n",
              "<p>15638 rows × 2 columns</p>\n",
              "</div>\n",
              "    <div class=\"colab-df-buttons\">\n",
              "\n",
              "  <div class=\"colab-df-container\">\n",
              "    <button class=\"colab-df-convert\" onclick=\"convertToInteractive('df-44577f34-6ef8-4fef-8a3c-d3e773d986fa')\"\n",
              "            title=\"Convert this dataframe to an interactive table.\"\n",
              "            style=\"display:none;\">\n",
              "\n",
              "  <svg xmlns=\"http://www.w3.org/2000/svg\" height=\"24px\" viewBox=\"0 -960 960 960\">\n",
              "    <path d=\"M120-120v-720h720v720H120Zm60-500h600v-160H180v160Zm220 220h160v-160H400v160Zm0 220h160v-160H400v160ZM180-400h160v-160H180v160Zm440 0h160v-160H620v160ZM180-180h160v-160H180v160Zm440 0h160v-160H620v160Z\"/>\n",
              "  </svg>\n",
              "    </button>\n",
              "\n",
              "  <style>\n",
              "    .colab-df-container {\n",
              "      display:flex;\n",
              "      gap: 12px;\n",
              "    }\n",
              "\n",
              "    .colab-df-convert {\n",
              "      background-color: #E8F0FE;\n",
              "      border: none;\n",
              "      border-radius: 50%;\n",
              "      cursor: pointer;\n",
              "      display: none;\n",
              "      fill: #1967D2;\n",
              "      height: 32px;\n",
              "      padding: 0 0 0 0;\n",
              "      width: 32px;\n",
              "    }\n",
              "\n",
              "    .colab-df-convert:hover {\n",
              "      background-color: #E2EBFA;\n",
              "      box-shadow: 0px 1px 2px rgba(60, 64, 67, 0.3), 0px 1px 3px 1px rgba(60, 64, 67, 0.15);\n",
              "      fill: #174EA6;\n",
              "    }\n",
              "\n",
              "    .colab-df-buttons div {\n",
              "      margin-bottom: 4px;\n",
              "    }\n",
              "\n",
              "    [theme=dark] .colab-df-convert {\n",
              "      background-color: #3B4455;\n",
              "      fill: #D2E3FC;\n",
              "    }\n",
              "\n",
              "    [theme=dark] .colab-df-convert:hover {\n",
              "      background-color: #434B5C;\n",
              "      box-shadow: 0px 1px 3px 1px rgba(0, 0, 0, 0.15);\n",
              "      filter: drop-shadow(0px 1px 2px rgba(0, 0, 0, 0.3));\n",
              "      fill: #FFFFFF;\n",
              "    }\n",
              "  </style>\n",
              "\n",
              "    <script>\n",
              "      const buttonEl =\n",
              "        document.querySelector('#df-44577f34-6ef8-4fef-8a3c-d3e773d986fa button.colab-df-convert');\n",
              "      buttonEl.style.display =\n",
              "        google.colab.kernel.accessAllowed ? 'block' : 'none';\n",
              "\n",
              "      async function convertToInteractive(key) {\n",
              "        const element = document.querySelector('#df-44577f34-6ef8-4fef-8a3c-d3e773d986fa');\n",
              "        const dataTable =\n",
              "          await google.colab.kernel.invokeFunction('convertToInteractive',\n",
              "                                                    [key], {});\n",
              "        if (!dataTable) return;\n",
              "\n",
              "        const docLinkHtml = 'Like what you see? Visit the ' +\n",
              "          '<a target=\"_blank\" href=https://colab.research.google.com/notebooks/data_table.ipynb>data table notebook</a>'\n",
              "          + ' to learn more about interactive tables.';\n",
              "        element.innerHTML = '';\n",
              "        dataTable['output_type'] = 'display_data';\n",
              "        await google.colab.output.renderOutput(dataTable, element);\n",
              "        const docLink = document.createElement('div');\n",
              "        docLink.innerHTML = docLinkHtml;\n",
              "        element.appendChild(docLink);\n",
              "      }\n",
              "    </script>\n",
              "  </div>\n",
              "\n",
              "\n",
              "<div id=\"df-7b392ddb-fc6d-4961-83ff-b2b80b69e46a\">\n",
              "  <button class=\"colab-df-quickchart\" onclick=\"quickchart('df-7b392ddb-fc6d-4961-83ff-b2b80b69e46a')\"\n",
              "            title=\"Suggest charts\"\n",
              "            style=\"display:none;\">\n",
              "\n",
              "<svg xmlns=\"http://www.w3.org/2000/svg\" height=\"24px\"viewBox=\"0 0 24 24\"\n",
              "     width=\"24px\">\n",
              "    <g>\n",
              "        <path d=\"M19 3H5c-1.1 0-2 .9-2 2v14c0 1.1.9 2 2 2h14c1.1 0 2-.9 2-2V5c0-1.1-.9-2-2-2zM9 17H7v-7h2v7zm4 0h-2V7h2v10zm4 0h-2v-4h2v4z\"/>\n",
              "    </g>\n",
              "</svg>\n",
              "  </button>\n",
              "\n",
              "<style>\n",
              "  .colab-df-quickchart {\n",
              "      --bg-color: #E8F0FE;\n",
              "      --fill-color: #1967D2;\n",
              "      --hover-bg-color: #E2EBFA;\n",
              "      --hover-fill-color: #174EA6;\n",
              "      --disabled-fill-color: #AAA;\n",
              "      --disabled-bg-color: #DDD;\n",
              "  }\n",
              "\n",
              "  [theme=dark] .colab-df-quickchart {\n",
              "      --bg-color: #3B4455;\n",
              "      --fill-color: #D2E3FC;\n",
              "      --hover-bg-color: #434B5C;\n",
              "      --hover-fill-color: #FFFFFF;\n",
              "      --disabled-bg-color: #3B4455;\n",
              "      --disabled-fill-color: #666;\n",
              "  }\n",
              "\n",
              "  .colab-df-quickchart {\n",
              "    background-color: var(--bg-color);\n",
              "    border: none;\n",
              "    border-radius: 50%;\n",
              "    cursor: pointer;\n",
              "    display: none;\n",
              "    fill: var(--fill-color);\n",
              "    height: 32px;\n",
              "    padding: 0;\n",
              "    width: 32px;\n",
              "  }\n",
              "\n",
              "  .colab-df-quickchart:hover {\n",
              "    background-color: var(--hover-bg-color);\n",
              "    box-shadow: 0 1px 2px rgba(60, 64, 67, 0.3), 0 1px 3px 1px rgba(60, 64, 67, 0.15);\n",
              "    fill: var(--button-hover-fill-color);\n",
              "  }\n",
              "\n",
              "  .colab-df-quickchart-complete:disabled,\n",
              "  .colab-df-quickchart-complete:disabled:hover {\n",
              "    background-color: var(--disabled-bg-color);\n",
              "    fill: var(--disabled-fill-color);\n",
              "    box-shadow: none;\n",
              "  }\n",
              "\n",
              "  .colab-df-spinner {\n",
              "    border: 2px solid var(--fill-color);\n",
              "    border-color: transparent;\n",
              "    border-bottom-color: var(--fill-color);\n",
              "    animation:\n",
              "      spin 1s steps(1) infinite;\n",
              "  }\n",
              "\n",
              "  @keyframes spin {\n",
              "    0% {\n",
              "      border-color: transparent;\n",
              "      border-bottom-color: var(--fill-color);\n",
              "      border-left-color: var(--fill-color);\n",
              "    }\n",
              "    20% {\n",
              "      border-color: transparent;\n",
              "      border-left-color: var(--fill-color);\n",
              "      border-top-color: var(--fill-color);\n",
              "    }\n",
              "    30% {\n",
              "      border-color: transparent;\n",
              "      border-left-color: var(--fill-color);\n",
              "      border-top-color: var(--fill-color);\n",
              "      border-right-color: var(--fill-color);\n",
              "    }\n",
              "    40% {\n",
              "      border-color: transparent;\n",
              "      border-right-color: var(--fill-color);\n",
              "      border-top-color: var(--fill-color);\n",
              "    }\n",
              "    60% {\n",
              "      border-color: transparent;\n",
              "      border-right-color: var(--fill-color);\n",
              "    }\n",
              "    80% {\n",
              "      border-color: transparent;\n",
              "      border-right-color: var(--fill-color);\n",
              "      border-bottom-color: var(--fill-color);\n",
              "    }\n",
              "    90% {\n",
              "      border-color: transparent;\n",
              "      border-bottom-color: var(--fill-color);\n",
              "    }\n",
              "  }\n",
              "</style>\n",
              "\n",
              "  <script>\n",
              "    async function quickchart(key) {\n",
              "      const quickchartButtonEl =\n",
              "        document.querySelector('#' + key + ' button');\n",
              "      quickchartButtonEl.disabled = true;  // To prevent multiple clicks.\n",
              "      quickchartButtonEl.classList.add('colab-df-spinner');\n",
              "      try {\n",
              "        const charts = await google.colab.kernel.invokeFunction(\n",
              "            'suggestCharts', [key], {});\n",
              "      } catch (error) {\n",
              "        console.error('Error during call to suggestCharts:', error);\n",
              "      }\n",
              "      quickchartButtonEl.classList.remove('colab-df-spinner');\n",
              "      quickchartButtonEl.classList.add('colab-df-quickchart-complete');\n",
              "    }\n",
              "    (() => {\n",
              "      let quickchartButtonEl =\n",
              "        document.querySelector('#df-7b392ddb-fc6d-4961-83ff-b2b80b69e46a button');\n",
              "      quickchartButtonEl.style.display =\n",
              "        google.colab.kernel.accessAllowed ? 'block' : 'none';\n",
              "    })();\n",
              "  </script>\n",
              "</div>\n",
              "\n",
              "  <div id=\"id_6ee67787-24a1-41d0-b19f-183dfc302960\">\n",
              "    <style>\n",
              "      .colab-df-generate {\n",
              "        background-color: #E8F0FE;\n",
              "        border: none;\n",
              "        border-radius: 50%;\n",
              "        cursor: pointer;\n",
              "        display: none;\n",
              "        fill: #1967D2;\n",
              "        height: 32px;\n",
              "        padding: 0 0 0 0;\n",
              "        width: 32px;\n",
              "      }\n",
              "\n",
              "      .colab-df-generate:hover {\n",
              "        background-color: #E2EBFA;\n",
              "        box-shadow: 0px 1px 2px rgba(60, 64, 67, 0.3), 0px 1px 3px 1px rgba(60, 64, 67, 0.15);\n",
              "        fill: #174EA6;\n",
              "      }\n",
              "\n",
              "      [theme=dark] .colab-df-generate {\n",
              "        background-color: #3B4455;\n",
              "        fill: #D2E3FC;\n",
              "      }\n",
              "\n",
              "      [theme=dark] .colab-df-generate:hover {\n",
              "        background-color: #434B5C;\n",
              "        box-shadow: 0px 1px 3px 1px rgba(0, 0, 0, 0.15);\n",
              "        filter: drop-shadow(0px 1px 2px rgba(0, 0, 0, 0.3));\n",
              "        fill: #FFFFFF;\n",
              "      }\n",
              "    </style>\n",
              "    <button class=\"colab-df-generate\" onclick=\"generateWithVariable('dataframe')\"\n",
              "            title=\"Generate code using this dataframe.\"\n",
              "            style=\"display:none;\">\n",
              "\n",
              "  <svg xmlns=\"http://www.w3.org/2000/svg\" height=\"24px\"viewBox=\"0 0 24 24\"\n",
              "       width=\"24px\">\n",
              "    <path d=\"M7,19H8.4L18.45,9,17,7.55,7,17.6ZM5,21V16.75L18.45,3.32a2,2,0,0,1,2.83,0l1.4,1.43a1.91,1.91,0,0,1,.58,1.4,1.91,1.91,0,0,1-.58,1.4L9.25,21ZM18.45,9,17,7.55Zm-12,3A5.31,5.31,0,0,0,4.9,8.1,5.31,5.31,0,0,0,1,6.5,5.31,5.31,0,0,0,4.9,4.9,5.31,5.31,0,0,0,6.5,1,5.31,5.31,0,0,0,8.1,4.9,5.31,5.31,0,0,0,12,6.5,5.46,5.46,0,0,0,6.5,12Z\"/>\n",
              "  </svg>\n",
              "    </button>\n",
              "    <script>\n",
              "      (() => {\n",
              "      const buttonEl =\n",
              "        document.querySelector('#id_6ee67787-24a1-41d0-b19f-183dfc302960 button.colab-df-generate');\n",
              "      buttonEl.style.display =\n",
              "        google.colab.kernel.accessAllowed ? 'block' : 'none';\n",
              "\n",
              "      buttonEl.onclick = () => {\n",
              "        google.colab.notebook.generateWithVariable('dataframe');\n",
              "      }\n",
              "      })();\n",
              "    </script>\n",
              "  </div>\n",
              "\n",
              "    </div>\n",
              "  </div>\n"
            ],
            "application/vnd.google.colaboratory.intrinsic+json": {
              "type": "dataframe",
              "variable_name": "dataframe",
              "summary": "{\n  \"name\": \"dataframe\",\n  \"rows\": 15638,\n  \"fields\": [\n    {\n      \"column\": \"text\",\n      \"properties\": {\n        \"dtype\": \"string\",\n        \"num_unique_values\": 15629,\n        \"samples\": [\n          \"first time tried sea salt vinegar chips taste make sure like salt vinegar ordering may suprise never tried stick salt black pepper chips\",\n          \"taste like peperoni like slim jim except uses real sausage casing\",\n          \"remember well beer nuts used savor days big redskin type peanut surrounded glaze honey sweetness punctuated salty tang remember well nuts palm hand reminiscent beer nuts way yes discernible salty taste sweetness imagined real plus nuts simply common inexpensive spanish peanuts short would ask beer nuts happened\"\n        ],\n        \"semantic_type\": \"\",\n        \"description\": \"\"\n      }\n    },\n    {\n      \"column\": \"summary\",\n      \"properties\": {\n        \"dtype\": \"string\",\n        \"num_unique_values\": 12278,\n        \"samples\": [\n          \"popchips hella good\",\n          \"good cat food without smelly cans\",\n          \"great hot sauce and people who run it\"\n        ],\n        \"semantic_type\": \"\",\n        \"description\": \"\"\n      }\n    }\n  ]\n}"
            }
          },
          "metadata": {},
          "execution_count": 14
        }
      ]
    },
    {
      "cell_type": "code",
      "source": [
        "dataframe.replace('', np.nan, inplace=True)\n",
        "dataframe.dropna(axis=0,inplace=True)"
      ],
      "metadata": {
        "id": "pX68B4EW-s9g"
      },
      "execution_count": null,
      "outputs": []
    },
    {
      "cell_type": "code",
      "source": [
        "#define text and summary max lengths\n",
        "MAX_TEXT_LEN = 50\n",
        "MAX_SUMMARY_LEN = 10"
      ],
      "metadata": {
        "id": "b3qaBRPN-wzS"
      },
      "execution_count": null,
      "outputs": []
    },
    {
      "cell_type": "code",
      "source": [
        "#Just keep summaries and text within limits\n",
        "#make the texts and summaries some arrays\n",
        "cleaned_text = np.array(dataframe[\"text\"])\n",
        "cleaned_summary = np.array(dataframe[\"summary\"])\n",
        "\n",
        "#define lists for short text and short summaries\n",
        "short_text = []\n",
        "short_summary = []\n",
        "\n",
        "#clean outliers\n",
        "for i in range(len(cleaned_text)):\n",
        "    if(len(cleaned_summary[i].split()) <= MAX_SUMMARY_LEN and len(cleaned_text[i].split()) <= MAX_TEXT_LEN):\n",
        "        short_text.append(cleaned_text[i])\n",
        "        short_summary.append(cleaned_summary[i])\n",
        "\n",
        "#change the dataframe\n",
        "final_dataframe = pd.DataFrame({\"text\":short_text, \"summary\":short_summary})"
      ],
      "metadata": {
        "id": "j3kP9IDM-1uL"
      },
      "execution_count": null,
      "outputs": []
    },
    {
      "cell_type": "code",
      "source": [
        "#Adding Tokens\n",
        "final_dataframe[\"summary\"] = final_dataframe[\"summary\"].apply(lambda x: \"soseq \" + x + \" eoseq\")"
      ],
      "metadata": {
        "id": "SsWoESZy-6gO"
      },
      "execution_count": null,
      "outputs": []
    },
    {
      "cell_type": "code",
      "source": [
        "#print wome sample of the dataframe\n",
        "for i in range(3):\n",
        "  print(\"\\033[1m\" + \"Text: \" + \"\\033[0m\" + final_dataframe[\"text\"][i])\n",
        "  print(\"\\033[1m\" + \"Summary: \" + \"\\033[0m\" + final_dataframe[\"summary\"][i])\n",
        "  print(\"\\n\")"
      ],
      "metadata": {
        "colab": {
          "base_uri": "https://localhost:8080/"
        },
        "id": "giq9RKAO-_LY",
        "outputId": "161a8399-43cc-486c-8df4-04eef2797c3d"
      },
      "execution_count": null,
      "outputs": [
        {
          "output_type": "stream",
          "name": "stdout",
          "text": [
            "\u001b[1mText: \u001b[0mbought several vitality canned dog food products found good quality product looks like stew processed meat smells better labrador finicky appreciates product better\n",
            "\u001b[1mSummary: \u001b[0msoseq good quality dog food eoseq\n",
            "\n",
            "\n",
            "\u001b[1mText: \u001b[0mproduct arrived labeled jumbo salted peanuts peanuts actually small sized unsalted sure error vendor intended represent product jumbo\n",
            "\u001b[1mSummary: \u001b[0msoseq not as advertised eoseq\n",
            "\n",
            "\n",
            "\u001b[1mText: \u001b[0mconfection around centuries light pillowy citrus gelatin nuts case filberts cut tiny squares liberally coated powdered sugar tiny mouthful heaven chewy flavorful highly recommend yummy treat familiar story lewis lion witch wardrobe treat seduces edmund selling brother sisters witch\n",
            "\u001b[1mSummary: \u001b[0msoseq delight says it all eoseq\n",
            "\n",
            "\n"
          ]
        }
      ]
    },
    {
      "cell_type": "code",
      "source": [
        "#Split data into train, test and validation\n",
        "#define arrays for datas\n",
        "texts = np.array(final_dataframe[\"text\"])\n",
        "summaries = np.array(final_dataframe[\"summary\"])"
      ],
      "metadata": {
        "id": "h7_CCf6k_DQW"
      },
      "execution_count": null,
      "outputs": []
    },
    {
      "cell_type": "code",
      "source": [
        "#divide train and validation\n",
        "x_train, x_val, y_train, y_val = tts(texts, summaries, test_size=0.15, random_state=0, shuffle=True)"
      ],
      "metadata": {
        "id": "MUCBShzD_Ivh"
      },
      "execution_count": null,
      "outputs": []
    },
    {
      "cell_type": "code",
      "source": [
        "#divide test data from the validation data\n",
        "x_val, x_test, y_val, y_test = tts(x_val, y_val, test_size=0.05, random_state=0, shuffle=True)"
      ],
      "metadata": {
        "id": "gj_5o-3O_Os_"
      },
      "execution_count": null,
      "outputs": []
    },
    {
      "cell_type": "code",
      "source": [
        "#Tokenization\n",
        "#Input data tokenization\n",
        "#define the x tokenizer\n",
        "x_tokenizer = Tokenizer()\n",
        "x_tokenizer.fit_on_texts(list(x_train))"
      ],
      "metadata": {
        "id": "TTf6nhHm_TRw"
      },
      "execution_count": null,
      "outputs": []
    },
    {
      "cell_type": "code",
      "source": [
        "#define the threshold\n",
        "threshold = 4\n",
        "\n",
        "#define variables for total count, count, frequency and total frequency\n",
        "count = 0 # Number of rare words\n",
        "total_count = 0 # count of every unique word in texts\n",
        "freq = 0\n",
        "total_freq = 0\n",
        "\n",
        "for key, value in x_tokenizer.word_counts.items():\n",
        "  #update counts and frequencies\n",
        "  total_count += 1\n",
        "  #if the value of word was lower than our threshold, count!\n",
        "  if value < threshold:\n",
        "    count += 1"
      ],
      "metadata": {
        "id": "iurLukZQ_WgL"
      },
      "execution_count": null,
      "outputs": []
    },
    {
      "cell_type": "code",
      "source": [
        "#get the top most common words number\n",
        "common_words = total_count - count\n",
        "\n",
        "#fit the tokenizer\n",
        "x_tokenizer = Tokenizer(num_words=common_words)\n",
        "x_tokenizer.fit_on_texts(list(x_train))\n",
        "\n",
        "#convert text sequence to int\n",
        "x_train_seq = x_tokenizer.texts_to_sequences(x_train)\n",
        "x_val_seq = x_tokenizer.texts_to_sequences(x_val)\n",
        "x_test_seq = x_tokenizer.texts_to_sequences(x_test)\n",
        "\n",
        "#Zero padding\n",
        "x_train = pad_sequences(x_train_seq, maxlen=MAX_TEXT_LEN, padding=\"post\")\n",
        "x_val = pad_sequences(x_val_seq, maxlen=MAX_TEXT_LEN, padding=\"post\")\n",
        "x_test = pad_sequences(x_test_seq, maxlen=MAX_TEXT_LEN, padding=\"post\")\n",
        "\n",
        "#get the size of input vocabulary\n",
        "x_vocab = x_tokenizer.num_words + 1"
      ],
      "metadata": {
        "id": "BGyuW1-I_aAA"
      },
      "execution_count": null,
      "outputs": []
    },
    {
      "cell_type": "code",
      "source": [
        "print(f\"size of input (X) vocabulary: {x_vocab}\")"
      ],
      "metadata": {
        "colab": {
          "base_uri": "https://localhost:8080/"
        },
        "id": "Dxi0lJ2R_dyn",
        "outputId": "1c50e5f8-3444-439d-d5d0-a5e360742ea5"
      },
      "execution_count": null,
      "outputs": [
        {
          "output_type": "stream",
          "name": "stdout",
          "text": [
            "size of input (X) vocabulary: 4964\n"
          ]
        }
      ]
    },
    {
      "cell_type": "code",
      "source": [
        "#Output data tokenization\n",
        "#define the tokenizer\n",
        "y_tokenizer = Tokenizer()\n",
        "y_tokenizer.fit_on_texts(list(y_train))"
      ],
      "metadata": {
        "id": "RTHvX5BL_io0"
      },
      "execution_count": null,
      "outputs": []
    },
    {
      "cell_type": "code",
      "source": [
        "#define the threshold\n",
        "threshold = 6\n",
        "\n",
        "#define variables for total count, count, frequency and total frequency\n",
        "count = 0 # Number of rare words\n",
        "total_count = 0 # count of every unique word in texts\n",
        "freq = 0\n",
        "total_freq = 0\n",
        "\n",
        "for key, value in y_tokenizer.word_counts.items():\n",
        "  #update counts and frequencies\n",
        "  total_count += 1\n",
        "  #if the value of word was lower than our threshold, count!\n",
        "  if value < threshold:\n",
        "    count += 1"
      ],
      "metadata": {
        "id": "8lklG0m1_mOB"
      },
      "execution_count": null,
      "outputs": []
    },
    {
      "cell_type": "code",
      "source": [
        "#get the count of common words\n",
        "common_words = total_count - count\n",
        "\n",
        "#fit tokenizer on common words\n",
        "y_tokenizer = Tokenizer(num_words=common_words)\n",
        "y_tokenizer.fit_on_texts(list(y_train))\n",
        "\n",
        "#convert text sequence to int\n",
        "y_train_seq = y_tokenizer.texts_to_sequences(y_train)\n",
        "y_val_seq = y_tokenizer.texts_to_sequences(y_val)\n",
        "y_test_seq = y_tokenizer.texts_to_sequences(y_test)\n",
        "\n",
        "#Zero padding\n",
        "y_train = pad_sequences(y_train_seq, maxlen=MAX_SUMMARY_LEN, padding=\"post\")\n",
        "y_val = pad_sequences(y_val_seq, maxlen=MAX_SUMMARY_LEN, padding=\"post\")\n",
        "y_test = pad_sequences(y_test_seq, maxlen=MAX_SUMMARY_LEN, padding=\"post\")\n",
        "\n",
        "#get the size of output vocabulary\n",
        "y_vocab = y_tokenizer.num_words + 1"
      ],
      "metadata": {
        "id": "9GPyjMfH_qWD"
      },
      "execution_count": null,
      "outputs": []
    },
    {
      "cell_type": "code",
      "source": [
        "print(f\"size of output (Y) vocabulary: {y_vocab}\")"
      ],
      "metadata": {
        "colab": {
          "base_uri": "https://localhost:8080/"
        },
        "id": "duxR0H2Z_tyW",
        "outputId": "4145b630-1cc5-4972-d334-aca8f34801d0"
      },
      "execution_count": null,
      "outputs": [
        {
          "output_type": "stream",
          "name": "stdout",
          "text": [
            "size of output (Y) vocabulary: 802\n"
          ]
        }
      ]
    },
    {
      "cell_type": "code",
      "source": [
        "#Remove rows with only start and end tokens\n",
        "#Train data\n",
        "#define a list for index\n",
        "index = []\n",
        "\n",
        "#loop over train data\n",
        "for i in range(len(y_train)):\n",
        "    count = 0\n",
        "    for j in y_train[i]:\n",
        "        if j != 0:\n",
        "            count += 1\n",
        "        #if count of words were 2, remove the data\n",
        "    if count == 2:\n",
        "        index.append(i)\n",
        "\n",
        "#remove rows\n",
        "y_train = np.delete(y_train, index, axis=0)\n",
        "x_train = np.delete(x_train, index, axis=0)"
      ],
      "metadata": {
        "id": "-OCqBX_h_x-b"
      },
      "execution_count": null,
      "outputs": []
    },
    {
      "cell_type": "code",
      "source": [
        "#Validation data\n",
        "#define a list for index\n",
        "index = []\n",
        "\n",
        "#loop over train data\n",
        "for i in range(len(y_val)):\n",
        "    count = 0\n",
        "    for j in y_val[i]:\n",
        "        if j != 0:\n",
        "            count += 1\n",
        "        #if count of words were 2, remove the data\n",
        "    if count == 2:\n",
        "        index.append(i)\n",
        "\n",
        "#remove rows\n",
        "y_val = np.delete(y_val, index, axis=0)\n",
        "x_val = np.delete(x_val, index, axis=0)"
      ],
      "metadata": {
        "id": "GV9OCCU2_2VS"
      },
      "execution_count": null,
      "outputs": []
    },
    {
      "cell_type": "code",
      "source": [
        "#Test data\n",
        "#define a list for index\n",
        "index = []\n",
        "\n",
        "#loop over train data\n",
        "for i in range(len(y_test)):\n",
        "    count = 0\n",
        "    for j in y_test[i]:\n",
        "        if j != 0:\n",
        "            count += 1\n",
        "        #if count of words were 2, remove the data\n",
        "    if count == 2:\n",
        "        index.append(i)\n",
        "\n",
        "#remove rows\n",
        "y_test = np.delete(y_test, index, axis=0)\n",
        "x_test = np.delete(x_test, index, axis=0)"
      ],
      "metadata": {
        "id": "y3ebhyJ3_7jr"
      },
      "execution_count": null,
      "outputs": []
    },
    {
      "cell_type": "code",
      "source": [
        "x_train[0]"
      ],
      "metadata": {
        "colab": {
          "base_uri": "https://localhost:8080/"
        },
        "id": "1uPNtjxb_-LC",
        "outputId": "6d1b00ba-b369-4933-df22-10b8e6a6463d"
      },
      "execution_count": null,
      "outputs": [
        {
          "output_type": "execute_result",
          "data": {
            "text/plain": [
              "array([   7,  161,   65,   93,  195,  282,   79,   73,  225,  161,    2,\n",
              "       2328,   56,    0,    0,    0,    0,    0,    0,    0,    0,    0,\n",
              "          0,    0,    0,    0,    0,    0,    0,    0,    0,    0,    0,\n",
              "          0,    0,    0,    0,    0,    0,    0,    0,    0,    0,    0,\n",
              "          0,    0,    0,    0,    0,    0], dtype=int32)"
            ]
          },
          "metadata": {},
          "execution_count": 34
        }
      ]
    },
    {
      "cell_type": "code",
      "source": [
        "#setup the datas for training\n",
        "x_train_m = [x_train, y_train[:,:-1]]\n",
        "y_train_m = y_train.reshape(y_train.shape[0],y_train.shape[1], 1)[:,1:]\n",
        "x_val_m = [x_val, y_val[:,:-1]]\n",
        "y_val_m = y_val.reshape(y_val.shape[0],y_val.shape[1], 1)[:,1:]"
      ],
      "metadata": {
        "id": "XyvEiBfbAD5n"
      },
      "execution_count": null,
      "outputs": []
    },
    {
      "cell_type": "code",
      "source": [
        "#define hyperparameters\n",
        "EPOCHS = 50\n",
        "BATCH_SIZE = 256\n",
        "LATENT_DIM = 250\n",
        "EMBED_DIM = 90"
      ],
      "metadata": {
        "id": "-RsfBGxNAXJC"
      },
      "execution_count": null,
      "outputs": []
    },
    {
      "cell_type": "code",
      "source": [
        "#Model Building\n",
        "#-------------------------------------------------------------------- < Encoder > --------------------------------------------------------------------\n",
        "#define the input\n",
        "encoder_input = Input(shape=(MAX_TEXT_LEN, ), name=\"encoder_input\")\n",
        "\n",
        "#Embedding\n",
        "encoder_embed = Embedding(x_vocab, EMBED_DIM, trainable=True, name=\"encoder_embeding\")(encoder_input)\n",
        "\n",
        "#Encoder LSTM Block 1\n",
        "encoder_lstm1 = LSTM(LATENT_DIM, return_sequences=True, return_state=True, dropout=0.4, recurrent_dropout=0.4, name=\"enc_lstm_1\")\n",
        "encoder_output1, state_h1, state_c1 = encoder_lstm1(encoder_embed)\n",
        "\n",
        "#Encoder LSTM Block 2\n",
        "encoder_lstm2 = LSTM(LATENT_DIM, return_sequences=True, return_state=True, dropout=0.4, recurrent_dropout=0.4, name=\"enc_lstm_2\")\n",
        "encoder_output2, state_h2, state_c2 = encoder_lstm2(encoder_output1)\n",
        "\n",
        "#Encoder LSTM Block 3\n",
        "encoder_lstm3 = LSTM(LATENT_DIM, return_sequences=True, return_state=True, dropout=0.4, recurrent_dropout=0.4, name=\"enc_lstm_3\")\n",
        "encoder_output3, state_h3, state_c3 = encoder_lstm3(encoder_output2)\n",
        "\n",
        "#-------------------------------------------------------------------- < Decoder > --------------------------------------------------------------------\n",
        "#define the input\n",
        "decoder_input = Input(shape=(None, ), name=\"decoder_input\")\n",
        "\n",
        "#Embedding for Decoder\n",
        "decoder_embed_layer = Embedding(y_vocab, EMBED_DIM, trainable=True)\n",
        "decoder_embed = decoder_embed_layer(decoder_input)\n",
        "\n",
        "#Decoder LSTM\n",
        "decoder_lstm = LSTM(LATENT_DIM, return_sequences=True, return_state=True, dropout=0.4, recurrent_dropout=0.4, name=\"decoder_lstm\")\n",
        "decoder_lstm_output, decoder_h1, decoder_c1 = decoder_lstm(decoder_embed, initial_state=[state_h3, state_c3])\n",
        "\n",
        "#Attention Layer\n",
        "attention_layer = AttentionLayer(name=\"attention_layer\")\n",
        "attention_output, attention_state = attention_layer([encoder_output3, decoder_lstm_output])\n",
        "\n",
        "#concatinate decoder and attention otuputs\n",
        "decoder_concat = Concatenate(axis=-1, name=\"decoder_concat\")([decoder_lstm_output, attention_output])\n",
        "\n",
        "#Time Distributed Dense\n",
        "decoder_dense = TimeDistributed(Dense(y_vocab, activation=\"softmax\"))\n",
        "decoder_output = decoder_dense(decoder_concat)\n",
        "\n",
        "#define the final model\n",
        "model = Model([encoder_input, decoder_input], decoder_output)"
      ],
      "metadata": {
        "id": "DtfwWQpNAjyh"
      },
      "execution_count": null,
      "outputs": []
    },
    {
      "cell_type": "code",
      "source": [
        "#see the model summary\n",
        "model.summary()"
      ],
      "metadata": {
        "colab": {
          "base_uri": "https://localhost:8080/"
        },
        "id": "OqZ-G5bUArEE",
        "outputId": "cf377917-c4cb-498d-ae1f-6dbc89793fc5"
      },
      "execution_count": null,
      "outputs": [
        {
          "output_type": "stream",
          "name": "stdout",
          "text": [
            "Model: \"model\"\n",
            "__________________________________________________________________________________________________\n",
            " Layer (type)                Output Shape                 Param #   Connected to                  \n",
            "==================================================================================================\n",
            " encoder_input (InputLayer)  [(None, 50)]                 0         []                            \n",
            "                                                                                                  \n",
            " encoder_embeding (Embeddin  (None, 50, 90)               446760    ['encoder_input[0][0]']       \n",
            " g)                                                                                               \n",
            "                                                                                                  \n",
            " enc_lstm_1 (LSTM)           [(None, 50, 250),            341000    ['encoder_embeding[0][0]']    \n",
            "                              (None, 250),                                                        \n",
            "                              (None, 250)]                                                        \n",
            "                                                                                                  \n",
            " decoder_input (InputLayer)  [(None, None)]               0         []                            \n",
            "                                                                                                  \n",
            " enc_lstm_2 (LSTM)           [(None, 50, 250),            501000    ['enc_lstm_1[0][0]']          \n",
            "                              (None, 250),                                                        \n",
            "                              (None, 250)]                                                        \n",
            "                                                                                                  \n",
            " embedding (Embedding)       (None, None, 90)             72180     ['decoder_input[0][0]']       \n",
            "                                                                                                  \n",
            " enc_lstm_3 (LSTM)           [(None, 50, 250),            501000    ['enc_lstm_2[0][0]']          \n",
            "                              (None, 250),                                                        \n",
            "                              (None, 250)]                                                        \n",
            "                                                                                                  \n",
            " decoder_lstm (LSTM)         [(None, None, 250),          341000    ['embedding[0][0]',           \n",
            "                              (None, 250),                           'enc_lstm_3[0][1]',          \n",
            "                              (None, 250)]                           'enc_lstm_3[0][2]']          \n",
            "                                                                                                  \n",
            " attention_layer (Attention  ((None, None, 250),          125250    ['enc_lstm_3[0][0]',          \n",
            " Layer)                       (None, None, 50))                      'decoder_lstm[0][0]']        \n",
            "                                                                                                  \n",
            " decoder_concat (Concatenat  (None, None, 500)            0         ['decoder_lstm[0][0]',        \n",
            " e)                                                                  'attention_layer[0][0]']     \n",
            "                                                                                                  \n",
            " time_distributed (TimeDist  (None, None, 802)            401802    ['decoder_concat[0][0]']      \n",
            " ributed)                                                                                         \n",
            "                                                                                                  \n",
            "==================================================================================================\n",
            "Total params: 2729992 (10.41 MB)\n",
            "Trainable params: 2729992 (10.41 MB)\n",
            "Non-trainable params: 0 (0.00 Byte)\n",
            "__________________________________________________________________________________________________\n"
          ]
        }
      ]
    },
    {
      "cell_type": "code",
      "source": [
        "#compile the model\n",
        "model.compile(optimizer='rmsprop', loss='sparse_categorical_crossentropy', metrics=[\"accuracy\"])"
      ],
      "metadata": {
        "id": "-0z5hcfyAve4"
      },
      "execution_count": null,
      "outputs": []
    },
    {
      "cell_type": "code",
      "source": [
        "#define callbacks\n",
        "early_stopping = EarlyStopping(monitor='val_loss', mode='min', verbose=1, patience=2)\n",
        "reduce_lr = ReduceLROnPlateau(monitor='val_loss', factor=0.15, patience=2, min_lr=0.0001)"
      ],
      "metadata": {
        "id": "KX5sQSIqAzGa"
      },
      "execution_count": null,
      "outputs": []
    },
    {
      "cell_type": "code",
      "source": [
        "#Model Training\n",
        "history = model.fit(x_train_m, y_train_m, batch_size=BATCH_SIZE, epochs=EPOCHS, validation_data=(x_val_m, y_val_m), callbacks=[early_stopping, reduce_lr])"
      ],
      "metadata": {
        "colab": {
          "base_uri": "https://localhost:8080/"
        },
        "id": "5aZnY8F6BYsl",
        "outputId": "514097e3-694d-4fd6-fdd1-e7025e9a91f8"
      },
      "execution_count": null,
      "outputs": [
        {
          "output_type": "stream",
          "name": "stdout",
          "text": [
            "Epoch 1/50\n",
            "39/39 [==============================] - 219s 6s/step - loss: 2.4703 - accuracy: 0.5802 - val_loss: 2.3906 - val_accuracy: 0.6181 - lr: 0.0010\n",
            "Epoch 2/50\n",
            "39/39 [==============================] - 215s 6s/step - loss: 2.3670 - accuracy: 0.6053 - val_loss: 2.2155 - val_accuracy: 0.6171 - lr: 0.0010\n",
            "Epoch 3/50\n",
            "39/39 [==============================] - 213s 5s/step - loss: 2.1822 - accuracy: 0.6557 - val_loss: 2.0821 - val_accuracy: 0.6763 - lr: 0.0010\n",
            "Epoch 4/50\n",
            "39/39 [==============================] - 218s 6s/step - loss: 2.1035 - accuracy: 0.6719 - val_loss: 2.0500 - val_accuracy: 0.6763 - lr: 0.0010\n",
            "Epoch 5/50\n",
            "39/39 [==============================] - 220s 6s/step - loss: 2.0806 - accuracy: 0.6719 - val_loss: 2.0470 - val_accuracy: 0.6763 - lr: 0.0010\n",
            "Epoch 6/50\n",
            "39/39 [==============================] - 220s 6s/step - loss: 2.0702 - accuracy: 0.6719 - val_loss: 2.0311 - val_accuracy: 0.6763 - lr: 0.0010\n",
            "Epoch 7/50\n",
            "39/39 [==============================] - 219s 6s/step - loss: 2.0593 - accuracy: 0.6718 - val_loss: 2.0272 - val_accuracy: 0.6765 - lr: 0.0010\n",
            "Epoch 8/50\n",
            "39/39 [==============================] - 220s 6s/step - loss: 2.0451 - accuracy: 0.6726 - val_loss: 2.0152 - val_accuracy: 0.6780 - lr: 0.0010\n",
            "Epoch 9/50\n",
            "39/39 [==============================] - 221s 6s/step - loss: 2.0308 - accuracy: 0.6732 - val_loss: 1.9932 - val_accuracy: 0.6767 - lr: 0.0010\n",
            "Epoch 10/50\n",
            "39/39 [==============================] - 223s 6s/step - loss: 2.0177 - accuracy: 0.6731 - val_loss: 1.9811 - val_accuracy: 0.6769 - lr: 0.0010\n",
            "Epoch 11/50\n",
            "39/39 [==============================] - 223s 6s/step - loss: 2.0059 - accuracy: 0.6727 - val_loss: 1.9746 - val_accuracy: 0.6780 - lr: 0.0010\n",
            "Epoch 12/50\n",
            "39/39 [==============================] - 225s 6s/step - loss: 1.9955 - accuracy: 0.6731 - val_loss: 1.9677 - val_accuracy: 0.6759 - lr: 0.0010\n",
            "Epoch 13/50\n",
            "39/39 [==============================] - 225s 6s/step - loss: 1.9844 - accuracy: 0.6737 - val_loss: 1.9612 - val_accuracy: 0.6763 - lr: 0.0010\n",
            "Epoch 14/50\n",
            "39/39 [==============================] - 225s 6s/step - loss: 1.9740 - accuracy: 0.6736 - val_loss: 1.9532 - val_accuracy: 0.6776 - lr: 0.0010\n",
            "Epoch 15/50\n",
            "39/39 [==============================] - 223s 6s/step - loss: 1.9638 - accuracy: 0.6737 - val_loss: 1.9396 - val_accuracy: 0.6782 - lr: 0.0010\n",
            "Epoch 16/50\n",
            "39/39 [==============================] - 234s 6s/step - loss: 1.9529 - accuracy: 0.6743 - val_loss: 1.9318 - val_accuracy: 0.6792 - lr: 0.0010\n",
            "Epoch 17/50\n",
            "39/39 [==============================] - 224s 6s/step - loss: 1.9406 - accuracy: 0.6746 - val_loss: 1.9185 - val_accuracy: 0.6787 - lr: 0.0010\n",
            "Epoch 18/50\n",
            "39/39 [==============================] - 224s 6s/step - loss: 1.9426 - accuracy: 0.6747 - val_loss: 1.9127 - val_accuracy: 0.6797 - lr: 0.0010\n",
            "Epoch 19/50\n",
            "39/39 [==============================] - 225s 6s/step - loss: 1.9205 - accuracy: 0.6756 - val_loss: 1.9110 - val_accuracy: 0.6808 - lr: 0.0010\n",
            "Epoch 20/50\n",
            "39/39 [==============================] - 224s 6s/step - loss: 1.9087 - accuracy: 0.6761 - val_loss: 1.8955 - val_accuracy: 0.6815 - lr: 0.0010\n",
            "Epoch 21/50\n",
            "39/39 [==============================] - 225s 6s/step - loss: 1.8979 - accuracy: 0.6766 - val_loss: 1.8894 - val_accuracy: 0.6794 - lr: 0.0010\n",
            "Epoch 22/50\n",
            "39/39 [==============================] - 225s 6s/step - loss: 1.8869 - accuracy: 0.6771 - val_loss: 1.8785 - val_accuracy: 0.6823 - lr: 0.0010\n",
            "Epoch 23/50\n",
            "39/39 [==============================] - 254s 7s/step - loss: 1.8779 - accuracy: 0.6773 - val_loss: 1.8811 - val_accuracy: 0.6819 - lr: 0.0010\n",
            "Epoch 24/50\n",
            "39/39 [==============================] - 229s 6s/step - loss: 1.8678 - accuracy: 0.6780 - val_loss: 1.8706 - val_accuracy: 0.6819 - lr: 0.0010\n",
            "Epoch 25/50\n",
            "39/39 [==============================] - 225s 6s/step - loss: 1.8592 - accuracy: 0.6781 - val_loss: 1.8711 - val_accuracy: 0.6827 - lr: 0.0010\n",
            "Epoch 26/50\n",
            "39/39 [==============================] - 225s 6s/step - loss: 1.8494 - accuracy: 0.6787 - val_loss: 1.8631 - val_accuracy: 0.6807 - lr: 0.0010\n",
            "Epoch 27/50\n",
            "39/39 [==============================] - 240s 6s/step - loss: 1.8422 - accuracy: 0.6790 - val_loss: 1.8530 - val_accuracy: 0.6821 - lr: 0.0010\n",
            "Epoch 28/50\n",
            "39/39 [==============================] - 227s 6s/step - loss: 1.8351 - accuracy: 0.6790 - val_loss: 1.8535 - val_accuracy: 0.6825 - lr: 0.0010\n",
            "Epoch 29/50\n",
            "39/39 [==============================] - 226s 6s/step - loss: 1.8267 - accuracy: 0.6795 - val_loss: 1.8517 - val_accuracy: 0.6813 - lr: 0.0010\n",
            "Epoch 30/50\n",
            "39/39 [==============================] - 225s 6s/step - loss: 1.8175 - accuracy: 0.6800 - val_loss: 1.8690 - val_accuracy: 0.6792 - lr: 0.0010\n",
            "Epoch 31/50\n",
            "39/39 [==============================] - 223s 6s/step - loss: 1.8121 - accuracy: 0.6796 - val_loss: 1.8447 - val_accuracy: 0.6821 - lr: 0.0010\n",
            "Epoch 32/50\n",
            "39/39 [==============================] - 223s 6s/step - loss: 1.8034 - accuracy: 0.6801 - val_loss: 1.8411 - val_accuracy: 0.6826 - lr: 0.0010\n",
            "Epoch 33/50\n",
            "39/39 [==============================] - 233s 6s/step - loss: 1.7987 - accuracy: 0.6806 - val_loss: 1.8467 - val_accuracy: 0.6813 - lr: 0.0010\n",
            "Epoch 34/50\n",
            "39/39 [==============================] - 224s 6s/step - loss: 1.7907 - accuracy: 0.6804 - val_loss: 1.8414 - val_accuracy: 0.6831 - lr: 0.0010\n",
            "Epoch 34: early stopping\n"
          ]
        }
      ]
    },
    {
      "cell_type": "code",
      "source": [
        "#fraw plots\n",
        "plt.plot(history.history['loss'], label='train')\n",
        "plt.plot(history.history['val_loss'], label='test')\n",
        "plt.legend()\n",
        "plt.show()"
      ],
      "metadata": {
        "colab": {
          "base_uri": "https://localhost:8080/",
          "height": 433
        },
        "id": "uDkyWE7xUkB5",
        "outputId": "cd704db3-ff78-4bf7-f96b-d1bbfe20acad"
      },
      "execution_count": null,
      "outputs": [
        {
          "output_type": "display_data",
          "data": {
            "text/plain": [
              "<Figure size 640x480 with 1 Axes>"
            ],
            "image/png": "[encoded data removed]"
          },
          "metadata": {}
        }
      ]
    },
    {
      "cell_type": "code",
      "source": [
        "plt.plot(history.history['accuracy'],label='accuracy')\n",
        "plt.plot(history.history['val_accuracy'],label='val_accuracy')\n",
        "plt.legend()\n",
        "plt.show()"
      ],
      "metadata": {
        "colab": {
          "base_uri": "https://localhost:8080/",
          "height": 430
        },
        "id": "DSnPyKqCUjkr",
        "outputId": "b956eda3-656b-4578-b7b9-99d22449b902"
      },
      "execution_count": null,
      "outputs": [
        {
          "output_type": "display_data",
          "data": {
            "text/plain": [
              "<Figure size 640x480 with 1 Axes>"
            ],
            "image/png": "[encoded data removed]"
          },
          "metadata": {}
        }
      ]
    },
    {
      "cell_type": "code",
      "source": [
        "plt.plot(history.history['loss'],label='loss')\n",
        "plt.plot(history.history['accuracy'],label='accuracy')\n",
        "plt.legend()\n",
        "plt.show()"
      ],
      "metadata": {
        "colab": {
          "base_uri": "https://localhost:8080/",
          "height": 430
        },
        "id": "xRQAkq9BUur4",
        "outputId": "7dd50fcb-3cd1-4350-fcf8-e8b2e011ef8c"
      },
      "execution_count": null,
      "outputs": [
        {
          "output_type": "display_data",
          "data": {
            "text/plain": [
              "<Figure size 640x480 with 1 Axes>"
            ],
            "image/png": "[encoded data removed]"
          },
          "metadata": {}
        }
      ]
    },
    {
      "cell_type": "code",
      "source": [
        "#Model Testing and Evaluation\n",
        "#save the tokenizer\n",
        "with open('xtokenizer.pickle', 'wb') as handle:\n",
        "    pickle.dump(x_tokenizer, handle, protocol=pickle.HIGHEST_PROTOCOL)\n",
        "\n",
        "with open('ytokenizer.pickle', 'wb') as handle:\n",
        "    pickle.dump(y_tokenizer, handle, protocol=pickle.HIGHEST_PROTOCOL)"
      ],
      "metadata": {
        "id": "hySsBZ92Xsxp"
      },
      "execution_count": null,
      "outputs": []
    },
    {
      "cell_type": "code",
      "source": [
        "#Ready layers for prediction\n",
        "#set tokenizerz for predictions\n",
        "reverse_target_word_index = y_tokenizer.index_word\n",
        "reverse_source_word_index = x_tokenizer.index_word\n",
        "target_word_index = y_tokenizer.word_index"
      ],
      "metadata": {
        "id": "HheNkqphXusy"
      },
      "execution_count": null,
      "outputs": []
    },
    {
      "cell_type": "code",
      "source": [
        "#define s single model for encoder\n",
        "encoder_model = Model(encoder_input, outputs=[encoder_output3, state_h3, state_c3])\n",
        "\n",
        "#---------- < DECODER > ----------\n",
        "#define inputs\n",
        "decoder_input_state_h = Input(shape=(LATENT_DIM, ))\n",
        "decoder_input_state_c = Input(shape=(LATENT_DIM, ))\n",
        "decoder_input_state_hidden = Input(shape=(MAX_TEXT_LEN, LATENT_DIM))\n",
        "\n",
        "#Embedding of the decoder\n",
        "decoder_embedding_pred = decoder_embed_layer(decoder_input)\n",
        "#Decoder LSTM (For making prediction, the state of the decoder should be set to the state of its previos time step)\n",
        "decoder_output_p, state_h_p, state_c_p = decoder_lstm(decoder_embedding_pred, initial_state=[decoder_input_state_h, decoder_input_state_c])\n",
        "\n",
        "#Attention\n",
        "attention_out_inference, attention_state_inference = attention_layer([decoder_input_state_hidden, decoder_output_p])\n",
        "decoder_concat = Concatenate(axis=-1, name=\"concat_attention\")([decoder_output_p, attention_out_inference])\n",
        "\n",
        "#Final prediction\n",
        "decoder_final_output = decoder_dense(decoder_concat)\n",
        "\n",
        "#make the final decoder model\n",
        "decoder_model = Model(\n",
        "    [decoder_input] + [decoder_input_state_hidden, decoder_input_state_h, decoder_input_state_c],\n",
        "    [decoder_final_output] + [state_h_p, state_c_p])"
      ],
      "metadata": {
        "id": "c1Z_uxt1XyKX"
      },
      "execution_count": null,
      "outputs": []
    },
    {
      "cell_type": "code",
      "source": [
        "#Sequence decoding\n",
        "def sequence_decoder(input_sequence):\n",
        "    \"\"\"\n",
        "    This function decods the sequence predicted\n",
        "    \"\"\"\n",
        "    #encode the input\n",
        "    encoder_output, encoder_h, encoder_c = encoder_model.predict(input_sequence, verbose=None)\n",
        "    #Define an embpy target with it's first woed set to input sequence\n",
        "    target_sequence = np.zeros((1, 1))\n",
        "    target_sequence[0, 0] = target_word_index[\"soseq\"]\n",
        "\n",
        "    #define variables for when to stop and the decoded sentence\n",
        "    decoded_sentence = \"\"\n",
        "    stop = False\n",
        "\n",
        "    while not stop:\n",
        "        #when we did not reach the place to stop (eoseq), decode\n",
        "        output_token, h, c = decoder_model.predict([target_sequence] + [encoder_output, encoder_h, encoder_c], verbose=None)\n",
        "\n",
        "        #predict token\n",
        "        predicted_token_index = np.argmax(output_token[0, -1, :])\n",
        "        predicted_token = reverse_target_word_index[predicted_token_index]\n",
        "\n",
        "        #if the token was not end of sequence, continue and add the predicted token to the dcecoded sentence variable\n",
        "        if  predicted_token != \"eoseq\":\n",
        "            decoded_sentence += \" \" + predicted_token\n",
        "\n",
        "        #if we've reached eoseq token or reached the summary length limit, make the stop state true\n",
        "        if predicted_token == \"eoseq\" or len(decoded_sentence.split()) >= MAX_SUMMARY_LEN - 1:\n",
        "            stop = True\n",
        "\n",
        "        #update the target sequence\n",
        "        target_sequence = np.zeros((1,1))\n",
        "        target_sequence[0, 0] = predicted_token_index\n",
        "\n",
        "        #Update internal states\n",
        "        encoder_h, encoder_c = h, c\n",
        "\n",
        "    return decoded_sentence\n"
      ],
      "metadata": {
        "id": "bv8WlB0GX5zc"
      },
      "execution_count": null,
      "outputs": []
    },
    {
      "cell_type": "code",
      "source": [
        "def sequence_to_summary(input_seuqnece):\n",
        "    \"\"\"\n",
        "    This function converts sequence into text (in this case summary)\n",
        "    \"\"\"\n",
        "    sentence = \"\"\n",
        "    #loop over the input sequence\n",
        "    for i in input_seuqnece:\n",
        "        if i != 0 and i != target_word_index[\"soseq\"] and i != target_word_index[\"eoseq\"]:\n",
        "            sentence = sentence + reverse_source_word_index[i] + \" \"\n",
        "\n",
        "    return sentence"
      ],
      "metadata": {
        "id": "kcN7uQahX8nf"
      },
      "execution_count": null,
      "outputs": []
    },
    {
      "cell_type": "code",
      "source": [
        "def sequence_to_text(input_seuqnece):\n",
        "    \"\"\"\n",
        "    This function converts sequence into text (in this case text)\n",
        "    This function is going to be used only for testing the model on test data\n",
        "    \"\"\"\n",
        "    sentence = \"\"\n",
        "    #loop over the input sequence\n",
        "    for i in input_seuqnece:\n",
        "        if i != 0 :\n",
        "            sentence = sentence + reverse_source_word_index[i] + \" \"\n",
        "\n",
        "    return sentence"
      ],
      "metadata": {
        "id": "R2TR9fepX9q1"
      },
      "execution_count": null,
      "outputs": []
    },
    {
      "cell_type": "code",
      "source": [
        "for i in range(5, 34):\n",
        "    print(\"Review:\", sequence_to_text(x_test[i]))\n",
        "    print(\"Original summary:\", sequence_to_summary(y_test[i]))\n",
        "    print(\"Predicted summary:\", sequence_decoder(x_test[i].reshape(1,MAX_TEXT_LEN)))\n",
        "    print(\"\\n\")"
      ],
      "metadata": {
        "colab": {
          "base_uri": "https://localhost:8080/"
        },
        "id": "wH2-GW_3YCpy",
        "outputId": "8920b1bc-45df-409c-9410-17b48e9d4569"
      },
      "execution_count": null,
      "outputs": [
        {
          "output_type": "stream",
          "name": "stdout",
          "text": [
            "Review: fabulous use put cheese olives martinis works really well easy clean \n",
            "Original summary: anywhere \n",
            "Predicted summary:  great product\n",
            "\n",
            "\n",
            "Review: buy crackers need something gluten free snack gluten free salty wipe salt able eat wish manufacturers would learn free mean eat salt less salt please \n",
            "Original summary: bought way amazon chips full \n",
            "Predicted summary:  great product\n",
            "\n",
            "\n",
            "Review: good storage cups well enough storage support keurig coffee maker easily solved problem store cups much better \n",
            "Original summary: great bisquick \n",
            "Predicted summary:  great coffee\n",
            "\n",
            "\n",
            "Review: excellent hot chocolate love love hot chocolate go love would purchase \n",
            "Original summary: bags \n",
            "Predicted summary:  great coffee\n",
            "\n",
            "\n",
            "Review: found yogi tea local grocery store began amazing love love teas stomach ease one perfect times feeling hot south belly button \n",
            "Original summary: recommend food \n",
            "Predicted summary:  great coffee\n",
            "\n",
            "\n",
            "Review: actually bought use safe treat however found using cook anything else tastes great sprinkled wings \n",
            "Original summary: bought get \n",
            "Predicted summary:  great\n",
            "\n",
            "\n",
            "Review: beef sticks honey great combination ole beef sticks full flavor adding honey gives little twist sweetness puts top honey ole always favorite friends pack perfect take along football parties \n",
            "Original summary: ordered fan \n",
            "Predicted summary:  great\n",
            "\n",
            "\n",
            "Review: ordered pork rinds christmas gift father law ordered husband needless say took work fallen love time contacted grocery store put store everyone purchase enjoy \n",
            "Original summary: keep however \n",
            "Predicted summary:  great\n",
            "\n",
            "\n",
            "Review: oh man like many us tried many cajun seasoning company right thank folks heart heat southern seasoning love \n",
            "Original summary: light would fresh get tea product \n",
            "Predicted summary:  great product\n",
            "\n",
            "\n",
            "Review: get fresh bold thick flavor coffee never bitter addicted blend decaf night sleep great price \n",
            "Original summary: much tea taste product flavor \n",
            "Predicted summary:  great coffee\n",
            "\n",
            "\n",
            "Review: got tablets try see really worked made lemons taste amazing items list taste much better still trying \n",
            "Original summary: favorite right \n",
            "Predicted summary:  great\n",
            "\n",
            "\n",
            "Review: vet recommended rabbit based food cat difficult find seems allergic chicken regular cat food unfortunately crazy food spoiled cat \n",
            "Original summary: hard dog \n",
            "Predicted summary:  great dog food\n",
            "\n",
            "\n",
            "Review: hesitant try coffee name looking good medium roast non flavored kcup right everyday cup coffee bitterness low acidity perfect coffee adding flavored liquid creamer brewed color like regular pot community coffee folgers \n",
            "Original summary: taste product meal disappointed biscuits case favorites flavor \n",
            "Predicted summary:  great coffee\n",
            "\n",
            "\n",
            "Review: times always find returning coffee flavor product anymore flavor coffee exceptional full rich shelf coffee ever tasted highly recommended \n",
            "Original summary: flavor \n",
            "Predicted summary:  great coffee\n",
            "\n",
            "\n",
            "Review: neither cats least bit impressed product flakes arrive scheduled remain except small amounts presented cats various ways hopes would find flakes appealing joy \n",
            "Original summary: hard first \n",
            "Predicted summary:  great dog food\n",
            "\n",
            "\n",
            "Review: bars taste lot like paul candy least quite awhile plan one warning easy digestion eat slowly tempted eat one \n",
            "Original summary: give something find eating \n",
            "Predicted summary:  great\n",
            "\n",
            "\n",
            "Review: waste money buy real cup coffee spend time money coffee shop \n",
            "Original summary: thought bought taste arrived every use flavor brand jerky \n",
            "Predicted summary:  great coffee\n",
            "\n",
            "\n",
            "Review: real good product love chips customers cannot go wrong best \n",
            "Original summary: coffee water \n",
            "Predicted summary:  great\n",
            "\n",
            "\n",
            "Review: use powdered tea powder fruit smoothies provides health benefits green tea love product use plain lemon ginger \n",
            "Original summary: great condition \n",
            "Predicted summary:  great coffee\n",
            "\n",
            "\n",
            "Review: ordered shipper twice first time received next day happy second time arrived next day well two cans opened box got wet causing inside box covered spoiled formula used one unopened cans baby became sick several days \n",
            "Original summary: meat \n",
            "Predicted summary:  great for\n",
            "\n",
            "\n",
            "Review: organic foods course best health starting baby foods pure best matter highly recommend earth best products loves formula foods love products best baby wish knew organics earth best years ago first baby \n",
            "Original summary: best given treats wife product \n",
            "Predicted summary:  great for food\n",
            "\n",
            "\n",
            "Review: purchased make vanilla extract bean arrived timely manner vacuum sealed plastic bag smell super vanilla arrived soft pliable maybe pliable greasy though almost immediate vodka home beans left oily residue top glass bottles grease necessarily gotten worse type oily smell richness vanilla one else problem \n",
            "Original summary: small wow brewing \n",
            "Predicted summary:  great\n",
            "\n",
            "\n",
            "Review: tastes like jack links brand wild bill even texture totally different wild bill recommended \n",
            "Original summary: much less love time brand fresh bought puck \n",
            "Predicted summary:  great\n",
            "\n",
            "\n",
            "Review: smell alone make good comes rock sugar mixed ever use added sweeteners \n",
            "Original summary: price \n",
            "Predicted summary:  great\n",
            "\n",
            "\n",
            "Review: good flavorful chips bad selection include garlic packaging difficult open fresh \n",
            "Original summary: great order one chocolate chips \n",
            "Predicted summary:  great product\n",
            "\n",
            "\n",
            "Review: served gluten free bisquick pancake waffle mix several friends relatives usually make waffles even done taste test regular bisquick people everyone liked gluten free best happy buy amazon twice much grocery stores thank carrying great product ca \n",
            "Original summary: allergies treats never delicious pancakes \n",
            "Predicted summary:  great snack\n",
            "\n",
            "\n",
            "Review: cat absolutely loves green treats esp since unable eat plants grass give greens needs part diet giving years issue actually toss give loves give time chew etc highly recommend \n",
            "Original summary: would treat keeps \n",
            "Predicted summary:  great dog food\n",
            "\n",
            "\n",
            "Review: grandchildren love sour gummy vitamins really liked sour gummy alas cannot find good second choice big problem keeping eating \n",
            "Original summary: pods \n",
            "Predicted summary:  great\n",
            "\n",
            "\n",
            "Review: much roses expected pleased color aroma drawback lot green stuff lot recipes want \n",
            "Original summary: second use \n",
            "Predicted summary:  great taste\n",
            "\n",
            "\n"
          ]
        }
      ]
    }
  ]
}